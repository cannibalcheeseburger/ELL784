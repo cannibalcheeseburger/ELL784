{
 "cells": [
  {
   "cell_type": "code",
   "execution_count": 20,
   "metadata": {},
   "outputs": [],
   "source": [
    "cords = [(1,1),(1,3),(3,3),(3,1)]"
   ]
  },
  {
   "cell_type": "code",
   "execution_count": 21,
   "metadata": {},
   "outputs": [],
   "source": [
    "cords = np.array(cords)"
   ]
  },
  {
   "cell_type": "code",
   "execution_count": 22,
   "metadata": {},
   "outputs": [
    {
     "data": {
      "text/plain": [
       "array([[1, 1],\n",
       "       [1, 3],\n",
       "       [3, 3],\n",
       "       [3, 1]])"
      ]
     },
     "execution_count": 22,
     "metadata": {},
     "output_type": "execute_result"
    }
   ],
   "source": [
    "cords"
   ]
  },
  {
   "cell_type": "code",
   "execution_count": 23,
   "metadata": {},
   "outputs": [],
   "source": [
    "import numpy as np"
   ]
  },
  {
   "cell_type": "markdown",
   "metadata": {},
   "source": [
    "k(p,q) = (1+ptq)"
   ]
  },
  {
   "cell_type": "code",
   "execution_count": 34,
   "metadata": {},
   "outputs": [],
   "source": [
    "def k(p,q):\n",
    "    return pow(1+ np.dot(np.transpose(p),q),2)"
   ]
  },
  {
   "cell_type": "code",
   "execution_count": 35,
   "metadata": {},
   "outputs": [],
   "source": [
    "K_matrix = []\n",
    "for row in range(len(cords)):\n",
    "    for col in range(len(cords)):\n",
    "        K_matrix.append(k(cords[col],cords[row]))"
   ]
  },
  {
   "cell_type": "code",
   "execution_count": 36,
   "metadata": {},
   "outputs": [
    {
     "data": {
      "text/plain": [
       "array([[  9,  25,  49,  25],\n",
       "       [ 25, 121, 169,  49],\n",
       "       [ 49, 169, 361, 169],\n",
       "       [ 25,  49, 169, 121]])"
      ]
     },
     "execution_count": 36,
     "metadata": {},
     "output_type": "execute_result"
    }
   ],
   "source": [
    "np.array(K_matrix).reshape(len(cords),len(cords))"
   ]
  },
  {
   "cell_type": "code",
   "execution_count": 37,
   "metadata": {},
   "outputs": [],
   "source": [
    "X_mean = np.array([2,2])"
   ]
  },
  {
   "cell_type": "code",
   "execution_count": 44,
   "metadata": {},
   "outputs": [],
   "source": [
    "def k_tilde(p,q):\n",
    "    k_val = k(p,q)\n",
    "    sum_xq = 0\n",
    "    for i in range(len(cords)):\n",
    "        sum_xq +=k(cords[i],q)\n",
    "    sum_xq/=len(cords)\n",
    "\n",
    "    sum_xx = 0\n",
    "    for i in range(len(cords)):\n",
    "        for j in range(len(cords)):\n",
    "            sum_xx+=k(cords[i],cords[j])\n",
    "    sum_xx/=len(cords)\n",
    "    k_px = 0\n",
    "    for i in range(len(cords)):\n",
    "        k_px+=k(p,cords[i])\n",
    "    return k_val-sum_xq-sum_xx +k_px"
   ]
  },
  {
   "cell_type": "code",
   "execution_count": 45,
   "metadata": {},
   "outputs": [],
   "source": [
    "K_tilde_matrix = []\n",
    "for row in range(len(cords)):\n",
    "    for col in range(len(cords)):\n",
    "        K_tilde_matrix.append(k_tilde(cords[col],cords[row]))"
   ]
  },
  {
   "cell_type": "code",
   "execution_count": 46,
   "metadata": {},
   "outputs": [
    {
     "data": {
      "text/plain": [
       "[-306.0,\n",
       " -34.0,\n",
       " 374.0,\n",
       " -34.0,\n",
       " -354.0,\n",
       " -2.0,\n",
       " 430.0,\n",
       " -74.0,\n",
       " -426.0,\n",
       " -50.0,\n",
       " 526.0,\n",
       " -50.0,\n",
       " -354.0,\n",
       " -74.0,\n",
       " 430.0,\n",
       " -2.0]"
      ]
     },
     "execution_count": 46,
     "metadata": {},
     "output_type": "execute_result"
    }
   ],
   "source": [
    "K_tilde_matrix"
   ]
  },
  {
   "cell_type": "code",
   "execution_count": null,
   "metadata": {},
   "outputs": [],
   "source": []
  },
  {
   "cell_type": "code",
   "execution_count": null,
   "metadata": {},
   "outputs": [],
   "source": []
  }
 ],
 "metadata": {
  "kernelspec": {
   "display_name": "ELL784-0C_wN4yj",
   "language": "python",
   "name": "python3"
  },
  "language_info": {
   "codemirror_mode": {
    "name": "ipython",
    "version": 3
   },
   "file_extension": ".py",
   "mimetype": "text/x-python",
   "name": "python",
   "nbconvert_exporter": "python",
   "pygments_lexer": "ipython3",
   "version": "3.12.4"
  }
 },
 "nbformat": 4,
 "nbformat_minor": 2
}
