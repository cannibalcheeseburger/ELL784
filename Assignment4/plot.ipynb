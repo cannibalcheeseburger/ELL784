{
 "cells": [
  {
   "cell_type": "code",
   "execution_count": null,
   "metadata": {},
   "outputs": [],
   "source": [
    "outputs = [{'k': 1, 'acc': 0.4719285714285714},\n",
    "    {'k': 2, 'acc': 0.6239285714285714},\n",
    "    {'k': 4, 'acc': 0.6858571428571428},\n",
    "    {'k': 8, 'acc': 0.65},\n",
    "    {'k': 16, 'acc': 0.7668571428571429},\n",
    "    {'k': 32, 'acc': 0.7977857142857143},{'k': 64, 'acc': 0.802}]"
   ]
  }
 ],
 "metadata": {
  "language_info": {
   "name": "python"
  }
 },
 "nbformat": 4,
 "nbformat_minor": 2
}
