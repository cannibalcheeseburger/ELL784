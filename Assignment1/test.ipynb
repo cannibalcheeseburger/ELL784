{
 "cells": [
  {
   "cell_type": "code",
   "execution_count": 1,
   "metadata": {},
   "outputs": [],
   "source": [
    "import matplotlib.pyplot as plt\n",
    "import numpy as np\n",
    "import pandas as pd\n",
    "from sklearn.preprocessing import OneHotEncoder\n"
   ]
  },
  {
   "cell_type": "code",
   "execution_count": 39,
   "metadata": {},
   "outputs": [],
   "source": [
    "class NeuralNetwork:\n",
    "\n",
    "    def __init__(self,inputs = 2,hidden_layers=[],output_neuron = 2,alpha=0.05):\n",
    "        self.Neurons = [inputs]+ hidden_layers + [output_neuron]\n",
    "        self.Layers = len(hidden_layers)+1\n",
    "        self.alpha = alpha\n",
    "        self.Weights = []\n",
    "        self.Bias = []\n",
    "        self.A = []\n",
    "        self.Z = [np.zeros(inputs)]\n",
    "        self.dW = []\n",
    "        self.dB = []\n",
    "        self.dZ = []\n",
    "        self.Error = 0 \n",
    "        self.Error_TS = []\n",
    "        for layer in range(self.Layers):\n",
    "            Weights = []\n",
    "            Bias  = []\n",
    "            A = []\n",
    "            Z = []\n",
    "            dW = []\n",
    "            dB = []\n",
    "            dZ = []\n",
    "            Weights  = 0.7*np.random.randn(self.Neurons[layer+1],self.Neurons[layer])\n",
    "            Bias = 0.7*np.random.randn(self.Neurons[layer+1])\n",
    "            A = 0.7*np.random.randn(self.Neurons[layer+1])\n",
    "            Z = 0.7*np.random.randn(self.Neurons[layer+1])\n",
    "            self.Weights.append(Weights)\n",
    "            self.Bias.append(Bias)\n",
    "            self.A.append(A)\n",
    "            self.Z.append(Z)\n",
    "            self.dB.append(dB)\n",
    "            self.dZ.append(dZ)\n",
    "            self.dW.append(dW)\n",
    "\n",
    "    def forward_pass(self,x):\n",
    "        self.Z[0] = x\n",
    "        for layer in range(self.Layers-1):\n",
    "            self.Z[layer+1] = np.dot(self.Weights[layer],self.Z[layer])+self.Bias[layer]\n",
    "            self.A[layer] = self.activation(self.Z[layer+1])\n",
    "        layer = self.Layers-1\n",
    "        self.Z[layer+1] = np.dot(self.Weights[layer],self.Z[layer])+self.Bias[layer]\n",
    "        self.A[layer] = self.softmax(self.Z[layer+1])\n",
    "\n",
    "    def softmax(self,z):\n",
    "        e_x = np.exp(z - np.max(z))\n",
    "        return e_x / e_x.sum()\n",
    "\n",
    "\n",
    "    def activation(self,z):\n",
    "        #Using reLU\n",
    "        #return np.maximum(0,z)\n",
    "        #sigmoid\n",
    "        z_inter = 1/(1 + np.exp(-z))\n",
    "        return z_inter\n",
    "    \n",
    "    def deriv_activation(self,z):\n",
    "        sig = self.activation(z)\n",
    "        return sig*(1-sig)\n",
    "        #return z>0\n",
    "\n",
    "    def back_prop(self,y,m=1):\n",
    "        layer = self.Layers-1\n",
    "        self.dZ[layer] = self.error(y)\n",
    "        self.dW[layer] = 1 / m * self.dZ[layer].dot(self.A[layer])\n",
    "        self.dB[layer] = 1 / m * np.sum(self.dZ[layer])\n",
    "        layer = layer - 1 \n",
    "        while(layer>=0):\n",
    "            self.dZ[layer] = self.Weights[layer+1].T.dot(self.dZ[layer+1]) * self.deriv_activation(self.Z[layer+1])\n",
    "            self.dW[layer] = 1 / m * self.dZ[layer].dot(self.A[layer].T)\n",
    "            self.dB[layer] = 1 / m * np.sum(self.dZ[layer])\n",
    "            layer = layer-1\n",
    "\n",
    "    def error(self,y):\n",
    "        Error =  self.A[self.Layers-1] - y\n",
    "        self.Error = pow(sum(abs(Error)),2) + self.Error\n",
    "        return Error\n",
    "\n",
    "    def update_WB(self):\n",
    "        for layer in range(self.Layers):\n",
    "            self.Weights[layer] = self.Weights[layer] - self.alpha * self.dW[layer]\n",
    "            self.Bias[layer] = self.Bias[layer] - self.alpha * self.dB[layer]\n",
    "\n",
    "    def fit(self,X,Y,iterations):\n",
    "        for i in range(iterations):\n",
    "            for point in range(len(X)):\n",
    "                x = np.array(X[point])\n",
    "                self.forward_pass(x)\n",
    "                self.back_prop(Y[point])\n",
    "                self.update_WB()\n",
    "        \n",
    "            print(\"Error :\",self.Error/X.size)\n",
    "            self.Error_TS.append(self.Error/X.size)\n",
    "            print(\"iterations: \" ,i)\n",
    "            self.Error = 0\n",
    "    \n",
    "    def plot(self):\n",
    "        plt.plot(self.Error_TS)"
   ]
  },
  {
   "cell_type": "code",
   "execution_count": 4,
   "metadata": {},
   "outputs": [],
   "source": [
    "def one_hot(Y):\n",
    "    one_hot_Y = np.zeros((Y.size,Y.max()+1))\n",
    "    one_hot_Y[np.arange(Y.size),Y] = 1\n",
    "    one_hot_Y = one_hot_Y.T\n",
    "    return one_hot_Y"
   ]
  },
  {
   "cell_type": "code",
   "execution_count": 59,
   "metadata": {},
   "outputs": [],
   "source": [
    "nn = NeuralNetwork(inputs = 783,hidden_layers=[5,5],output_neuron=10,alpha=0.01)"
   ]
  },
  {
   "cell_type": "code",
   "execution_count": 6,
   "metadata": {},
   "outputs": [],
   "source": [
    "df_train = pd.read_csv(\"./data/train.csv\")\n",
    "df_test = pd.read_csv(\"./data/test.csv\")\n",
    "Y_train,X_train = df_train.iloc[:, :1], df_test.iloc[:, 1:]\n"
   ]
  },
  {
   "cell_type": "code",
   "execution_count": 48,
   "metadata": {},
   "outputs": [],
   "source": [
    "X = np.asarray(X_train)\n",
    "Y = np.asarray(Y_train)"
   ]
  },
  {
   "cell_type": "code",
   "execution_count": 51,
   "metadata": {},
   "outputs": [],
   "source": [
    "Y = one_hot(Y.T)"
   ]
  },
  {
   "cell_type": "code",
   "execution_count": 52,
   "metadata": {},
   "outputs": [],
   "source": [
    "Y = Y.T"
   ]
  },
  {
   "cell_type": "code",
   "execution_count": 58,
   "metadata": {},
   "outputs": [
    {
     "data": {
      "text/plain": [
       "array([[-9261.33222384, -9262.60521163, -9261.19505955, -9261.93374475,\n",
       "        -9262.02946121, -9262.14691773, -9262.072712  , -9262.32721962,\n",
       "        -9262.31071366, -9261.37259356],\n",
       "       [-9261.63217774, -9261.5316366 , -9262.13535447, -9260.91343591,\n",
       "        -9261.73495956, -9262.17381459, -9262.29739803, -9262.37268724,\n",
       "        -9263.2508625 , -9261.81899102],\n",
       "       [-9261.47678097, -9262.77487923, -9262.48751549, -9262.99201765,\n",
       "        -9262.72996941, -9261.8706319 , -9261.32677483, -9263.11512915,\n",
       "        -9261.69582242, -9261.6069448 ],\n",
       "       [-9261.41332646, -9261.54703089, -9262.43459727, -9262.16916351,\n",
       "        -9262.32845253, -9261.71622582, -9262.33103421, -9262.53388602,\n",
       "        -9261.26559359, -9263.37258844],\n",
       "       [-9262.40057391, -9261.3508182 , -9262.57859334, -9261.41068257,\n",
       "        -9261.25335351, -9260.22730424, -9262.40984007, -9261.88824385,\n",
       "        -9262.86532909, -9261.55623185],\n",
       "       [-9262.68311864, -9261.72695952, -9262.2075107 , -9262.62299733,\n",
       "        -9261.58587443, -9262.30769026, -9262.09300965, -9263.90737196,\n",
       "        -9261.83922317, -9262.55558663],\n",
       "       [-9261.64501981, -9262.83028528, -9262.70609899, -9261.88856916,\n",
       "        -9262.5526643 , -9262.07274856, -9262.65152893, -9262.08606223,\n",
       "        -9260.99598218, -9262.24698205],\n",
       "       [-9263.12888691, -9261.36232945, -9261.14659634, -9262.30816374,\n",
       "        -9263.30339199, -9262.61606419, -9263.17473903, -9262.68317197,\n",
       "        -9262.13882158, -9262.36195903],\n",
       "       [-9261.32919009, -9261.4163103 , -9263.20969335, -9263.35383751,\n",
       "        -9262.38760545, -9263.11558824, -9262.127142  , -9260.85909197,\n",
       "        -9262.44817364, -9263.45284012],\n",
       "       [-9263.40367009, -9260.49883403, -9261.79209898, -9261.73916977,\n",
       "        -9262.80822497, -9262.72816867, -9263.32196005, -9261.7406851 ,\n",
       "        -9262.19733144, -9262.49425065]])"
      ]
     },
     "execution_count": 58,
     "metadata": {},
     "output_type": "execute_result"
    }
   ],
   "source": [
    "nn.Weights[1]"
   ]
  },
  {
   "cell_type": "code",
   "execution_count": 60,
   "metadata": {},
   "outputs": [
    {
     "name": "stderr",
     "output_type": "stream",
     "text": [
      "C:\\Users\\kashp\\AppData\\Local\\Temp\\ipykernel_8168\\1460828290.py:54: RuntimeWarning: overflow encountered in exp\n",
      "  z_inter = 1/(1 + np.exp(-z))\n"
     ]
    },
    {
     "name": "stdout",
     "output_type": "stream",
     "text": [
      "Error : 0.004629098550818575\n",
      "iterations:  0\n",
      "Error : 0.0046272915283775634\n",
      "iterations:  1\n",
      "Error : 0.0046258292548546345\n",
      "iterations:  2\n",
      "Error : 0.004625945973663511\n",
      "iterations:  3\n",
      "Error : 0.004625271760800236\n",
      "iterations:  4\n",
      "Error : 0.00462691843015129\n",
      "iterations:  5\n"
     ]
    },
    {
     "ename": "KeyboardInterrupt",
     "evalue": "",
     "output_type": "error",
     "traceback": [
      "\u001b[1;31m---------------------------------------------------------------------------\u001b[0m",
      "\u001b[1;31mKeyboardInterrupt\u001b[0m                         Traceback (most recent call last)",
      "\u001b[1;32me:\\GITHUB\\MERE_WALE\\ELL784\\Assignment1\\test.ipynb Cell 10\u001b[0m line \u001b[0;36m1\n\u001b[1;32m----> <a href='vscode-notebook-cell:/e%3A/GITHUB/MERE_WALE/ELL784/Assignment1/test.ipynb#X10sZmlsZQ%3D%3D?line=0'>1</a>\u001b[0m nn\u001b[39m.\u001b[39;49mfit(X,Y,iterations\u001b[39m=\u001b[39;49m\u001b[39m100\u001b[39;49m)\n",
      "\u001b[1;32me:\\GITHUB\\MERE_WALE\\ELL784\\Assignment1\\test.ipynb Cell 10\u001b[0m line \u001b[0;36m8\n\u001b[0;32m     <a href='vscode-notebook-cell:/e%3A/GITHUB/MERE_WALE/ELL784/Assignment1/test.ipynb#X10sZmlsZQ%3D%3D?line=84'>85</a>\u001b[0m \u001b[39mfor\u001b[39;00m i \u001b[39min\u001b[39;00m \u001b[39mrange\u001b[39m(iterations):\n\u001b[0;32m     <a href='vscode-notebook-cell:/e%3A/GITHUB/MERE_WALE/ELL784/Assignment1/test.ipynb#X10sZmlsZQ%3D%3D?line=85'>86</a>\u001b[0m     \u001b[39mfor\u001b[39;00m point \u001b[39min\u001b[39;00m \u001b[39mrange\u001b[39m(\u001b[39mlen\u001b[39m(X)):\n\u001b[1;32m---> <a href='vscode-notebook-cell:/e%3A/GITHUB/MERE_WALE/ELL784/Assignment1/test.ipynb#X10sZmlsZQ%3D%3D?line=86'>87</a>\u001b[0m         x \u001b[39m=\u001b[39m np\u001b[39m.\u001b[39;49marray(X[point])\n\u001b[0;32m     <a href='vscode-notebook-cell:/e%3A/GITHUB/MERE_WALE/ELL784/Assignment1/test.ipynb#X10sZmlsZQ%3D%3D?line=87'>88</a>\u001b[0m         \u001b[39mself\u001b[39m\u001b[39m.\u001b[39mforward_pass(x)\n\u001b[0;32m     <a href='vscode-notebook-cell:/e%3A/GITHUB/MERE_WALE/ELL784/Assignment1/test.ipynb#X10sZmlsZQ%3D%3D?line=88'>89</a>\u001b[0m         \u001b[39mself\u001b[39m\u001b[39m.\u001b[39mback_prop(Y[point])\n",
      "\u001b[1;31mKeyboardInterrupt\u001b[0m: "
     ]
    }
   ],
   "source": [
    "nn.fit(X,Y,iterations=100)"
   ]
  },
  {
   "cell_type": "code",
   "execution_count": 46,
   "metadata": {},
   "outputs": [
    {
     "data": {
      "text/plain": [
       "array([-18848455.10924018, -18850755.03138002, -18851833.33058111,\n",
       "       -18855256.36051976, -18851800.87513721, -18855925.47126421,\n",
       "       -18850387.60470331, -18852238.08111519, -18855441.21500538,\n",
       "       -18853184.44793749])"
      ]
     },
     "execution_count": 46,
     "metadata": {},
     "output_type": "execute_result"
    }
   ],
   "source": [
    "nn.Z[2]"
   ]
  },
  {
   "cell_type": "code",
   "execution_count": 61,
   "metadata": {},
   "outputs": [
    {
     "data": {
      "image/png": "[encoded data removed]",
      "text/plain": [
       "<Figure size 640x480 with 1 Axes>"
      ]
     },
     "metadata": {},
     "output_type": "display_data"
    }
   ],
   "source": [
    "nn.plot()"
   ]
  },
  {
   "cell_type": "code",
   "execution_count": null,
   "metadata": {},
   "outputs": [],
   "source": []
  },
  {
   "cell_type": "code",
   "execution_count": null,
   "metadata": {},
   "outputs": [],
   "source": []
  }
 ],
 "metadata": {
  "kernelspec": {
   "display_name": "ELL784-XmMyOxYq",
   "language": "python",
   "name": "python3"
  },
  "language_info": {
   "codemirror_mode": {
    "name": "ipython",
    "version": 3
   },
   "file_extension": ".py",
   "mimetype": "text/x-python",
   "name": "python",
   "nbconvert_exporter": "python",
   "pygments_lexer": "ipython3",
   "version": "3.12.0"
  }
 },
 "nbformat": 4,
 "nbformat_minor": 2
}
