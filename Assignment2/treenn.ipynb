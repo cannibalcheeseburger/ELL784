{
 "cells": [
  {
   "cell_type": "code",
   "execution_count": 1,
   "metadata": {},
   "outputs": [],
   "source": [
    "from NeuralNetwork.dense import Dense\n",
    "from NeuralNetwork.losses import mse,mse_derive\n",
    "from NeuralNetwork.activations import Sigmoid,Softmax\n",
    "from NeuralNetwork.network import predict\n",
    "import numpy as np\n",
    "import pandas as pd\n",
    "from tqdm import tqdm\n",
    "import matplotlib.pyplot as plt"
   ]
  },
  {
   "cell_type": "code",
   "execution_count": 2,
   "metadata": {},
   "outputs": [],
   "source": [
    "EPOCH = 100\n",
    "ALPHA = 0.03"
   ]
  },
  {
   "cell_type": "code",
   "execution_count": 10,
   "metadata": {},
   "outputs": [],
   "source": [
    "class TreeNN():\n",
    "    def __init__(self,depth=1,max_depth=10,parent_node = None):\n",
    "        self.parent_node = parent_node\n",
    "        self.NN = [\n",
    "            Dense(784,10),\n",
    "            Sigmoid(),\n",
    "            Softmax()\n",
    "        ]\n",
    "        self.depth = depth\n",
    "        self.max_depth = max_depth\n",
    "        self.child = None\n",
    "    \n",
    "    def train_tree(self,X,Y,epoch=EPOCH,alpha=ALPHA,verbose = False):\n",
    "        print(\"Training Tree Node at depth: \",self.depth)\n",
    "        self.X = X\n",
    "        self.Y = Y\n",
    "        error_TS = []\n",
    "        acc_TS = []\n",
    "        incorrect_indices = []\n",
    "        for e in range(epoch):\n",
    "            errors = 0\n",
    "            acc = 0\n",
    "            for x, y in zip(self.X, self.Y):\n",
    "                out = predict(self.NN, x)\n",
    "                if np.argmax(y)==np.argmax(out):\n",
    "                    acc+=1\n",
    "                    errors += mse(y, out)\n",
    "                elif self.depth==self.max_depth:\n",
    "                    errors +=mse(y,out)\n",
    "                gradient = mse_derive(y, out)\n",
    "                for layer in reversed(self.NN):\n",
    "                    gradient = layer.backward(gradient, alpha)\n",
    "            errors /= len(self.X)\n",
    "            acc /=len(self.X)\n",
    "            if verbose:\n",
    "                print(f\"{e + 1}/{epoch}, Train_error={errors}, Train_accuracy={acc}\")\n",
    "            error_TS.append(errors)\n",
    "            acc_TS.append(acc)\n",
    "        val_acc = 0\n",
    "        val_error = 0\n",
    "        index = 0\n",
    "        print(f\"Train_error={errors}, Train_accuracy={acc}\")\n",
    "\n",
    "        #Passing on incorrect indices\n",
    "        for x, y in zip(self.X, self.Y):\n",
    "            output = predict(self.NN, x)\n",
    "            if np.argmax(y)==np.argmax(output):\n",
    "                val_acc+=1\n",
    "            else:\n",
    "                incorrect_indices.append(index)\n",
    "            val_error += mse(y, output)\n",
    "            index +=1\n",
    "        \n",
    "        X_out = self.X[incorrect_indices]\n",
    "        Y_out = self.Y[incorrect_indices]\n",
    "\n",
    "        print(\"Incorrect Samples\",len(incorrect_indices))\n",
    "        if self.depth<self.max_depth:\n",
    "            self.child = TreeNN(depth=self.depth+1,max_depth=self.max_depth,parent_node=self)\n",
    "            self.child.train_tree(X_out,Y_out)\n",
    "\n",
    "    \n",
    "    def predict(self,X):\n",
    "        predictions = []\n",
    "        for x in X:\n",
    "            output = predict(self.NN, x)\n",
    "            predictions.append(output)\n",
    "        return predictions\n",
    "        # check for more probability\n",
    "\n",
    "\n"
   ]
  },
  {
   "cell_type": "markdown",
   "metadata": {},
   "source": [
    "if self.child == None:\n",
    "            return None\n",
    "        child_predictions = self.child.predict(X)\n",
    "        predictions = []\n",
    "\n",
    "        if child_predictions.all() == None:\n",
    "            for x in X:\n",
    "                out = predict(self.NN, x)\n",
    "                predictions.append(out)\n",
    "            predictions = np.asanyarray(predictions)\n",
    "            return predictions\n",
    "        \n",
    "        for x in X:\n",
    "            out = predict(self.NN, x)\n",
    "            predictions.append(out)\n",
    "        predictions = np.asanyarray(predictions)\n",
    "\n",
    "        final = []\n",
    "        # TO be tweaked\n",
    "        for pred, child in zip(predictions,child_predictions):\n",
    "            if np.argmax(pred) != np.argmax(child):\n",
    "                final.append(pred)\n",
    "            else:\n",
    "                if pred[np.argmax(pred)] > child[np.argmax(child)]:\n",
    "                    final.append(pred)\n",
    "                else:\n",
    "                    final.append(child)\n",
    "        return np.asanyarray(final)"
   ]
  },
  {
   "cell_type": "code",
   "execution_count": 4,
   "metadata": {},
   "outputs": [],
   "source": [
    "def evaluate_tree(tnn,X_test,Y_test,size,depth = 0):\n",
    "    if tnn== None:\n",
    "        return X_test,Y_test,[0],[0]\n",
    "    X_test,Y_test,TS_error,TS_acc = evaluate_tree(tnn.child,X_test,Y_test,size,depth+1) \n",
    "    predictions = tnn.predict(X_test)\n",
    "    incorrect_indices = []\n",
    "    index = 0\n",
    "    test_error = TS_error[-1]\n",
    "    test_acc = TS_acc[-1]\n",
    "\n",
    "    for pred, true in zip(predictions, Y_test):\n",
    "        if np.argmax(pred)==np.argmax(true):\n",
    "            test_acc+=1\n",
    "            test_error += mse(true, pred)\n",
    "        else:\n",
    "            incorrect_indices.append(index)\n",
    "            if depth==0:\n",
    "                test_error += mse(true, pred)\n",
    "\n",
    "        index +=1   \n",
    "    TS_error.append(test_error)\n",
    "    TS_acc.append(test_acc)\n",
    "#    if depth==0:\n",
    "    print(f\"Test_error={test_error/size}, Test_accuracy={test_acc/size}\")\n",
    "    return X_test[incorrect_indices],Y_test[incorrect_indices],TS_error,TS_acc\n",
    "        \n"
   ]
  },
  {
   "cell_type": "code",
   "execution_count": 5,
   "metadata": {},
   "outputs": [],
   "source": [
    "df_train = pd.read_csv(\"./dataset/MNIST.csv\")"
   ]
  },
  {
   "cell_type": "code",
   "execution_count": 6,
   "metadata": {},
   "outputs": [],
   "source": [
    "Y_test,X_test =  df_train.iloc[:2000, :1], df_train.iloc[:2000, 1:]\n",
    "Y_train,X_train = df_train.iloc[2000:, :1], df_train.iloc[2000:, 1:]\n",
    "X_in = np.reshape(X_train,X_train.shape +(1,))\n",
    "Y_in = np.squeeze(np.eye(10)[Y_train])\n",
    "Y_in = np.reshape(Y_in,Y_in.shape +(1,))\n",
    "X_test = np.reshape(X_test,X_test.shape +(1,))\n",
    "Y_test = np.squeeze(np.eye(10)[Y_test])\n",
    "Y_test = np.reshape(Y_test,Y_test.shape +(1,))"
   ]
  },
  {
   "cell_type": "code",
   "execution_count": 7,
   "metadata": {},
   "outputs": [
    {
     "data": {
      "text/plain": [
       "(40000, 10, 1)"
      ]
     },
     "execution_count": 7,
     "metadata": {},
     "output_type": "execute_result"
    }
   ],
   "source": [
    "Y_in.shape"
   ]
  },
  {
   "cell_type": "code",
   "execution_count": 11,
   "metadata": {},
   "outputs": [],
   "source": [
    "tnn = TreeNN()"
   ]
  },
  {
   "cell_type": "code",
   "execution_count": 13,
   "metadata": {},
   "outputs": [
    {
     "name": "stdout",
     "output_type": "stream",
     "text": [
      "Training Tree Node at depth:  1\n",
      "1/100, Train_error=0.034848864237779074, Train_accuracy=0.50925\n",
      "2/100, Train_error=0.034640257993131265, Train_accuracy=0.50595\n",
      "3/100, Train_error=0.03654954268658183, Train_accuracy=0.5364\n"
     ]
    },
    {
     "ename": "KeyboardInterrupt",
     "evalue": "",
     "output_type": "error",
     "traceback": [
      "\u001b[1;31m---------------------------------------------------------------------------\u001b[0m",
      "\u001b[1;31mKeyboardInterrupt\u001b[0m                         Traceback (most recent call last)",
      "\u001b[1;32me:\\GITHUB\\MERE_WALE\\ELL784\\Assignment2\\treenn.ipynb Cell 10\u001b[0m line \u001b[0;36m1\n\u001b[1;32m----> <a href='vscode-notebook-cell:/e%3A/GITHUB/MERE_WALE/ELL784/Assignment2/treenn.ipynb#X10sZmlsZQ%3D%3D?line=0'>1</a>\u001b[0m tnn\u001b[39m.\u001b[39;49mtrain_tree(X_in,Y_in,verbose\u001b[39m=\u001b[39;49m\u001b[39mTrue\u001b[39;49;00m)\n",
      "\u001b[1;32me:\\GITHUB\\MERE_WALE\\ELL784\\Assignment2\\treenn.ipynb Cell 10\u001b[0m line \u001b[0;36m2\n\u001b[0;32m     <a href='vscode-notebook-cell:/e%3A/GITHUB/MERE_WALE/ELL784/Assignment2/treenn.ipynb#X10sZmlsZQ%3D%3D?line=21'>22</a>\u001b[0m acc \u001b[39m=\u001b[39m \u001b[39m0\u001b[39m\n\u001b[0;32m     <a href='vscode-notebook-cell:/e%3A/GITHUB/MERE_WALE/ELL784/Assignment2/treenn.ipynb#X10sZmlsZQ%3D%3D?line=22'>23</a>\u001b[0m \u001b[39mfor\u001b[39;00m x, y \u001b[39min\u001b[39;00m \u001b[39mzip\u001b[39m(\u001b[39mself\u001b[39m\u001b[39m.\u001b[39mX, \u001b[39mself\u001b[39m\u001b[39m.\u001b[39mY):\n\u001b[1;32m---> <a href='vscode-notebook-cell:/e%3A/GITHUB/MERE_WALE/ELL784/Assignment2/treenn.ipynb#X10sZmlsZQ%3D%3D?line=23'>24</a>\u001b[0m     out \u001b[39m=\u001b[39m predict(\u001b[39mself\u001b[39;49m\u001b[39m.\u001b[39;49mNN, x)\n\u001b[0;32m     <a href='vscode-notebook-cell:/e%3A/GITHUB/MERE_WALE/ELL784/Assignment2/treenn.ipynb#X10sZmlsZQ%3D%3D?line=24'>25</a>\u001b[0m     \u001b[39mif\u001b[39;00m np\u001b[39m.\u001b[39margmax(y)\u001b[39m==\u001b[39mnp\u001b[39m.\u001b[39margmax(out):\n\u001b[0;32m     <a href='vscode-notebook-cell:/e%3A/GITHUB/MERE_WALE/ELL784/Assignment2/treenn.ipynb#X10sZmlsZQ%3D%3D?line=25'>26</a>\u001b[0m         acc\u001b[39m+\u001b[39m\u001b[39m=\u001b[39m\u001b[39m1\u001b[39m\n",
      "File \u001b[1;32me:\\GITHUB\\MERE_WALE\\ELL784\\Assignment2\\NeuralNetwork\\network.py:6\u001b[0m, in \u001b[0;36mpredict\u001b[1;34m(NN, input)\u001b[0m\n\u001b[0;32m      4\u001b[0m out \u001b[39m=\u001b[39m \u001b[39minput\u001b[39m\n\u001b[0;32m      5\u001b[0m \u001b[39mfor\u001b[39;00m n \u001b[39min\u001b[39;00m NN:\n\u001b[1;32m----> 6\u001b[0m     out \u001b[39m=\u001b[39m n\u001b[39m.\u001b[39;49mforward(out)\n\u001b[0;32m      7\u001b[0m \u001b[39mreturn\u001b[39;00m out\n",
      "File \u001b[1;32me:\\GITHUB\\MERE_WALE\\ELL784\\Assignment2\\NeuralNetwork\\dense.py:10\u001b[0m, in \u001b[0;36mDense.forward\u001b[1;34m(self, input)\u001b[0m\n\u001b[0;32m      8\u001b[0m \u001b[39mdef\u001b[39;00m \u001b[39mforward\u001b[39m(\u001b[39mself\u001b[39m, \u001b[39minput\u001b[39m):\n\u001b[0;32m      9\u001b[0m     \u001b[39mself\u001b[39m\u001b[39m.\u001b[39minput \u001b[39m=\u001b[39m \u001b[39minput\u001b[39m\n\u001b[1;32m---> 10\u001b[0m     \u001b[39mreturn\u001b[39;00m np\u001b[39m.\u001b[39;49mdot(\u001b[39mself\u001b[39;49m\u001b[39m.\u001b[39;49mweights, \u001b[39mself\u001b[39;49m\u001b[39m.\u001b[39;49minput) \u001b[39m+\u001b[39m \u001b[39mself\u001b[39m\u001b[39m.\u001b[39mbias\n",
      "\u001b[1;31mKeyboardInterrupt\u001b[0m: "
     ]
    }
   ],
   "source": [
    "tnn.train_tree(X_in,Y_in,verbose=True)"
   ]
  },
  {
   "cell_type": "code",
   "execution_count": null,
   "metadata": {},
   "outputs": [
    {
     "name": "stdout",
     "output_type": "stream",
     "text": [
      "Test_error=0.010111425759223582, Test_accuracy=0.1245\n",
      "Test_error=0.017253859106317247, Test_accuracy=0.213\n",
      "Test_error=0.023967955781006255, Test_accuracy=0.305\n",
      "Test_error=0.029342082565057267, Test_accuracy=0.378\n",
      "Test_error=0.0380696976547617, Test_accuracy=0.496\n",
      "Test_error=0.04412376374659193, Test_accuracy=0.574\n",
      "Test_error=0.054031308986198234, Test_accuracy=0.7055\n",
      "Test_error=0.05873250226737075, Test_accuracy=0.767\n",
      "Test_error=0.06690971493757444, Test_accuracy=0.882\n",
      "Test_error=0.07556930459175375, Test_accuracy=0.952\n"
     ]
    }
   ],
   "source": [
    "X_out,Y_out,TS_error,TS_acc = evaluate_tree(tnn,X_test,Y_test,len(X_test))"
   ]
  },
  {
   "cell_type": "code",
   "execution_count": null,
   "metadata": {},
   "outputs": [
    {
     "data": {
      "text/plain": [
       "[<matplotlib.lines.Line2D at 0x20ec2206600>]"
      ]
     },
     "execution_count": 11,
     "metadata": {},
     "output_type": "execute_result"
    },
    {
     "data": {
      "image/png": "[encoded data removed]",
      "text/plain": [
       "<Figure size 640x480 with 1 Axes>"
      ]
     },
     "metadata": {},
     "output_type": "display_data"
    }
   ],
   "source": [
    "plt.plot(TS_acc)"
   ]
  },
  {
   "cell_type": "code",
   "execution_count": null,
   "metadata": {},
   "outputs": [
    {
     "data": {
      "text/plain": [
       "[0, 271, 474, 697, 1256, 1827]"
      ]
     },
     "execution_count": 12,
     "metadata": {},
     "output_type": "execute_result"
    }
   ],
   "source": [
    "TS_acc"
   ]
  },
  {
   "cell_type": "code",
   "execution_count": null,
   "metadata": {},
   "outputs": [],
   "source": []
  }
 ],
 "metadata": {
  "kernelspec": {
   "display_name": "ELL784-MV564C7r",
   "language": "python",
   "name": "python3"
  },
  "language_info": {
   "codemirror_mode": {
    "name": "ipython",
    "version": 3
   },
   "file_extension": ".py",
   "mimetype": "text/x-python",
   "name": "python",
   "nbconvert_exporter": "python",
   "pygments_lexer": "ipython3",
   "version": "3.12.0"
  }
 },
 "nbformat": 4,
 "nbformat_minor": 2
}
