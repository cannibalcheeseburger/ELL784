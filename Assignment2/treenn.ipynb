{
 "cells": [
  {
   "cell_type": "code",
   "execution_count": null,
   "metadata": {},
   "outputs": [],
   "source": [
    "from NeuralNetwork.dense import Dense\n",
    "from NeuralNetwork.losses import mse,mse_derive\n",
    "from NeuralNetwork.activations import Sigmoid\n",
    "from NeuralNetwork.network import predict"
   ]
  },
  {
   "cell_type": "code",
   "execution_count": null,
   "metadata": {},
   "outputs": [],
   "source": [
    "EPOCH = 100\n",
    "ALPHA = 0.03"
   ]
  },
  {
   "cell_type": "code",
   "execution_count": null,
   "metadata": {},
   "outputs": [],
   "source": [
    "def encode(x):\n",
    "    if x<0.5:\n",
    "        return 0\n",
    "    return 1"
   ]
  },
  {
   "cell_type": "code",
   "execution_count": null,
   "metadata": {},
   "outputs": [],
   "source": [
    "class TreeNN():\n",
    "    def __init__(self,X,Y,depth=0,max_depth=1,parent_node = None):\n",
    "        self.parent_node = parent_node\n",
    "        self.NN = [\n",
    "            Dense(784,1),\n",
    "            Sigmoid(),\n",
    "        ]\n",
    "        self.depth = depth\n",
    "        self.max_depth = max_depth\n",
    "        self.X = X\n",
    "        self.Y = Y\n",
    "        self.children = None\n",
    "    \n",
    "    def train_tree(self,NN,loss,loss_derive,epoch=EPOCH,alpha=ALPHA,verbose = True):\n",
    "        error_TS = []\n",
    "        acc_TS = []\n",
    "        for e in range(epoch):\n",
    "            errors = 0\n",
    "            acc = 0\n",
    "            for x, y in zip(self.X, self.Y):\n",
    "                # forward\n",
    "                out = predict(NN, x)\n",
    "\n",
    "                if y==out:\n",
    "                    acc+=1\n",
    "                # error\n",
    "\n",
    "                errors += loss(y, out)\n",
    "\n",
    "                # backward\n",
    "                gradient = loss_derive(y, out)\n",
    "                for layer in reversed(NN):\n",
    "                    gradient = layer.backward(gradient, alpha)\n",
    "\n",
    "            errors /= len(self.X)\n",
    "            acc /=len(self.X)\n",
    "            if verbose:\n",
    "                print(f\"{e + 1}/{epoch}, Train_error={errors}, Train_accuracy={acc}\")\n",
    "            error_TS.append(errors)\n",
    "            acc_TS.append(acc)\n",
    "        return error_TS,acc_TS\n"
   ]
  },
  {
   "cell_type": "code",
   "execution_count": null,
   "metadata": {},
   "outputs": [],
   "source": [
    "def evaluate(root):\n",
    "    #eval tree"
   ]
  }
 ],
 "metadata": {
  "kernelspec": {
   "display_name": "ELL784-MV564C7r",
   "language": "python",
   "name": "python3"
  },
  "language_info": {
   "name": "python",
   "version": "3.10.0"
  }
 },
 "nbformat": 4,
 "nbformat_minor": 2
}
