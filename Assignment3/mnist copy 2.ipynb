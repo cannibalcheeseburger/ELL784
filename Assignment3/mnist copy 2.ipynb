{
 "cells": [
  {
   "cell_type": "code",
   "execution_count": 1,
   "metadata": {},
   "outputs": [],
   "source": [
    "from sklearn.datasets import fetch_openml\n",
    "from sklearn.metrics import accuracy_score,classification_report\n",
    "import numpy as np\n",
    "import pandas as pd\n",
    "import matplotlib.pyplot as plt\n",
    "from sklearn.model_selection import train_test_split\n",
    "import tqdm.notebook as tqdm"
   ]
  },
  {
   "cell_type": "code",
   "execution_count": 2,
   "metadata": {},
   "outputs": [],
   "source": [
    "from NeuralNetwork.dense import Dense\n",
    "from NeuralNetwork.activations import Sigmoid,Softmax,ReLU\n",
    "from NeuralNetwork.losses import categorical_crossentropy, categorical_crossentropy_derive\n",
    "from NeuralNetwork.network import predict"
   ]
  },
  {
   "cell_type": "code",
   "execution_count": 3,
   "metadata": {},
   "outputs": [],
   "source": [
    "mnist = fetch_openml('mnist_784')"
   ]
  },
  {
   "cell_type": "code",
   "execution_count": 4,
   "metadata": {},
   "outputs": [],
   "source": [
    "X = mnist.data/255.0\n",
    "labels = np.array( mnist.target).astype(int)\n",
    "y = np.squeeze(np.eye(10)[labels])\n",
    "X_train,X_test,y_train,y_test = train_test_split(X,y,test_size=0.2,shuffle=True)\n",
    "X_val, y_val = X_train.iloc[:2000],y_train[:2000]"
   ]
  },
  {
   "cell_type": "code",
   "execution_count": 5,
   "metadata": {},
   "outputs": [
    {
     "data": {
      "text/plain": [
       "(70000,)"
      ]
     },
     "execution_count": 5,
     "metadata": {},
     "output_type": "execute_result"
    }
   ],
   "source": [
    "labels.shape"
   ]
  },
  {
   "cell_type": "code",
   "execution_count": 6,
   "metadata": {},
   "outputs": [],
   "source": [
    "def train(NN, loss, loss_derive, X_train, y_train,X_val,y_val,epoch=20, alpha=0.05, verbose = True):\n",
    "    X_train = np.reshape(X_train,X_train.shape +(1,))\n",
    "    y_train = np.reshape(y_train,y_train.shape +(1,))\n",
    "    X_val = np.reshape(X_val,X_val.shape +(1,))\n",
    "    y_val = np.reshape(y_val,y_val.shape +(1,))\n",
    "    error_TS = []\n",
    "    acc_TS = []\n",
    "    val_error_TS = []\n",
    "    val_acc_TS = []\n",
    "    for e in range(epoch):\n",
    "        errors= 0\n",
    "        acc =0\n",
    "        val_error = 0\n",
    "        val_acc = 0\n",
    "        for x, y in zip(X_train, y_train):\n",
    "            # forward\n",
    "            out = predict(NN, x)\n",
    "            if np.argmax(y)==np.argmax(out):\n",
    "                acc+=1\n",
    "            # error\n",
    "\n",
    "            errors+= loss(y, out)\n",
    "\n",
    "            # backward\n",
    "            gradient = loss_derive(y, out)\n",
    "            for layer in reversed(NN):\n",
    "                gradient = layer.backward(gradient, alpha)\n",
    "\n",
    "        for x, y in zip(X_val, y_val):\n",
    "            output = predict(NN, x)\n",
    "            if np.argmax(y)==np.argmax(output):\n",
    "                val_acc+=1\n",
    "            val_error += loss(y, output)\n",
    "        \n",
    "        errors/= len(X_train)\n",
    "        acc /=len(X_train)\n",
    "        val_error /= len(X_val)\n",
    "        val_acc /=len(X_val)\n",
    "\n",
    "        if verbose:\n",
    "            print(f\"{e + 1}/{epoch}, error={round(errors,4)}, accuracy={round(acc,4)}, val_error={round(val_error,4)}, val_accuracy={round(val_acc,4)}\")\n",
    "        error_TS.append(errors)\n",
    "        acc_TS.append(acc)\n",
    "        val_error_TS.append(val_error)\n",
    "        val_acc_TS.append(val_acc)\n",
    "    return [error_TS,acc_TS,val_error_TS,val_acc_TS]"
   ]
  },
  {
   "cell_type": "code",
   "execution_count": 7,
   "metadata": {},
   "outputs": [],
   "source": [
    "def graph_train(train_error,train_acc,val_error,val_acc,index=False):\n",
    "    add_index = \"\"\n",
    "    if index:\n",
    "        add_index+=index\n",
    "    plt.plot(train_error)\n",
    "    plt.plot(val_error)\n",
    "    plt.xlabel(\"Epochs\")\n",
    "    plt.ylabel(\"Error\")        \n",
    "    plt.legend(['train error','validation error'])\n",
    "    plt.savefig(\"./graph/Error{}.png\".format(add_index))\n",
    "    plt.clf()\n",
    "    plt.plot(train_acc)\n",
    "    plt.plot(val_acc)\n",
    "    plt.xlabel(\"Epochs\")\n",
    "    plt.ylabel(\"Accuracy\")\n",
    "    plt.legend(['train accuracy','validation accuracy'])\n",
    "\n",
    "    plt.savefig(\"./graph/Accuracy{}.png\".format(add_index))"
   ]
  },
  {
   "cell_type": "code",
   "execution_count": 26,
   "metadata": {},
   "outputs": [],
   "source": [
    "X_in = get_top(X,labels,100)"
   ]
  },
  {
   "cell_type": "code",
   "execution_count": 27,
   "metadata": {},
   "outputs": [],
   "source": [
    "Y_in = X_in[:,-1:]\n",
    "X_in  = X_in[:,:-1]\n",
    "X_v = X_val[:200]\n",
    "y_v = y_val[:200]"
   ]
  },
  {
   "cell_type": "code",
   "execution_count": 28,
   "metadata": {},
   "outputs": [
    {
     "data": {
      "text/plain": [
       "(1000, 784)"
      ]
     },
     "execution_count": 28,
     "metadata": {},
     "output_type": "execute_result"
    }
   ],
   "source": [
    "X_in.shape"
   ]
  },
  {
   "cell_type": "code",
   "execution_count": 29,
   "metadata": {},
   "outputs": [],
   "source": [
    "Y_in =  np.squeeze(np.eye(10)[Y_in.astype(int).squeeze()])"
   ]
  },
  {
   "cell_type": "code",
   "execution_count": 30,
   "metadata": {},
   "outputs": [
    {
     "data": {
      "text/plain": [
       "(1000, 784)"
      ]
     },
     "execution_count": 30,
     "metadata": {},
     "output_type": "execute_result"
    }
   ],
   "source": [
    "X_in.shape"
   ]
  },
  {
   "cell_type": "code",
   "execution_count": 40,
   "metadata": {},
   "outputs": [],
   "source": [
    "NN = [Dense(784,128),\n",
    "      Sigmoid(),\n",
    "      Dense(128,10),\n",
    "      Softmax()]"
   ]
  },
  {
   "cell_type": "code",
   "execution_count": 39,
   "metadata": {},
   "outputs": [
    {
     "name": "stdout",
     "output_type": "stream",
     "text": [
      "1/20, error=0.0379, accuracy=0.937, val_error=0.7032, val_accuracy=0.105\n",
      "2/20, error=0.0253, accuracy=0.945, val_error=0.605, val_accuracy=0.1085\n",
      "3/20, error=0.0207, accuracy=0.953, val_error=0.5338, val_accuracy=0.1135\n",
      "4/20, error=0.0182, accuracy=0.951, val_error=0.4901, val_accuracy=0.12\n",
      "5/20, error=0.0165, accuracy=0.956, val_error=0.4591, val_accuracy=0.1305\n",
      "6/20, error=0.0152, accuracy=0.959, val_error=0.4363, val_accuracy=0.151\n",
      "7/20, error=0.0144, accuracy=0.957, val_error=0.4244, val_accuracy=0.1585\n",
      "8/20, error=0.0137, accuracy=0.956, val_error=0.4057, val_accuracy=0.1735\n",
      "9/20, error=0.0131, accuracy=0.959, val_error=0.3835, val_accuracy=0.186\n",
      "10/20, error=0.0128, accuracy=0.965, val_error=0.3731, val_accuracy=0.198\n",
      "11/20, error=0.0127, accuracy=0.967, val_error=0.3509, val_accuracy=0.2115\n",
      "12/20, error=0.0118, accuracy=0.971, val_error=0.3354, val_accuracy=0.232\n",
      "13/20, error=0.0111, accuracy=0.972, val_error=0.318, val_accuracy=0.2655\n",
      "14/20, error=0.0108, accuracy=0.974, val_error=0.3067, val_accuracy=0.299\n",
      "15/20, error=0.0105, accuracy=0.974, val_error=0.3025, val_accuracy=0.321\n",
      "16/20, error=0.0103, accuracy=0.975, val_error=0.301, val_accuracy=0.337\n",
      "17/20, error=0.01, accuracy=0.976, val_error=0.295, val_accuracy=0.3515\n",
      "18/20, error=0.0098, accuracy=0.977, val_error=0.2878, val_accuracy=0.369\n",
      "19/20, error=0.0096, accuracy=0.979, val_error=0.2811, val_accuracy=0.3905\n",
      "20/20, error=0.0094, accuracy=0.978, val_error=0.2742, val_accuracy=0.406\n"
     ]
    }
   ],
   "source": [
    "train_error,train_acc,val_error,val_acc = train(NN,categorical_crossentropy,categorical_crossentropy_derive,X_in,Y_in,X_val,y_val,alpha=0.1,epoch=20)"
   ]
  },
  {
   "cell_type": "code",
   "execution_count": 37,
   "metadata": {},
   "outputs": [
    {
     "data": {
      "image/png": "[encoded data removed]",
      "text/plain": [
       "<Figure size 640x480 with 1 Axes>"
      ]
     },
     "metadata": {},
     "output_type": "display_data"
    }
   ],
   "source": [
    "graph_train(train_error,train_acc,val_error,val_acc,index=\"overfit\")"
   ]
  },
  {
   "cell_type": "code",
   "execution_count": 81,
   "metadata": {},
   "outputs": [
    {
     "name": "stdout",
     "output_type": "stream",
     "text": [
      "test accuracy: 0.9743571428571428\n"
     ]
    }
   ],
   "source": [
    "acc =0\n",
    "loss = 0\n",
    "for x,y in zip(X_test.to_numpy().reshape(X_test.shape+(1,)),y_test):\n",
    "    out = predict(NN,x)\n",
    "    if out.argmax()==y.argmax():\n",
    "        acc+=1\n",
    "    loss+=categorical_crossentropy(y.argmax(),out.argmax())\n",
    "print(\"test accuracy:\",acc/len(X_test))"
   ]
  },
  {
   "cell_type": "code",
   "execution_count": 10,
   "metadata": {},
   "outputs": [],
   "source": [
    "#make pairs\n",
    "k=100"
   ]
  },
  {
   "cell_type": "code",
   "execution_count": 9,
   "metadata": {},
   "outputs": [],
   "source": [
    "from sklearn.utils import shuffle\n",
    "def get_top(X,labels,k=100):\n",
    "    #dataset = np.column_stack((X,labels))\n",
    "    X_sample, labels_sample = shuffle(X, labels, )\n",
    "\n",
    "    topk = []\n",
    "    for _class in range(10):\n",
    "        class_index = np.where(labels_sample==_class)[0][:k]\n",
    "        topk.append(np.column_stack((X_sample.iloc[class_index],labels_sample[class_index])))\n",
    "    topk = np.vstack(topk)\n",
    "    return topk"
   ]
  },
  {
   "cell_type": "code",
   "execution_count": 33,
   "metadata": {},
   "outputs": [],
   "source": [
    "top100 = get_top(X,labels)\n",
    "np.random.shuffle(top100)"
   ]
  },
  {
   "cell_type": "code",
   "execution_count": 34,
   "metadata": {},
   "outputs": [],
   "source": [
    "pairs = []\n",
    "pair_labels = []\n",
    "for row1 in top100:\n",
    "    for row2 in top100:\n",
    "        pairs.append(np.hstack((row2[:-1],row1[:-1])))\n",
    "        if row1[-1]==row2[-1]:\n",
    "            pair_labels.append(1)\n",
    "        else:\n",
    "            pair_labels.append(0)\n",
    "\n",
    "pairs = np.vstack(pairs)\n",
    "pair_labels = np.array(pair_labels)"
   ]
  },
  {
   "cell_type": "code",
   "execution_count": 60,
   "metadata": {},
   "outputs": [],
   "source": [
    "X_train,X_val,y_train,y_val = train_test_split(pairs,pair_labels,test_size=0.2,shuffle=True)"
   ]
  },
  {
   "cell_type": "code",
   "execution_count": 151,
   "metadata": {},
   "outputs": [],
   "source": [
    "def predict_siamese(NN,X,threshold=1.0):\n",
    "    X_sample = X.reshape(len(X), 2, 784)\n",
    "    predictions = []\n",
    "    first_images = []\n",
    "    second_images = []\n",
    "    \n",
    "    for sample in X_sample:\n",
    "        first_images.append(predict(NN,sample[0].reshape(784,1)))\n",
    "        second_images.append(predict(NN,sample[1].reshape(784,1)))\n",
    "\n",
    "    for first,second in zip(first_images,second_images):\n",
    "        euclidean_dist =np.sqrt(np.sum(np.square(first - second)))\n",
    "        if euclidean_dist<threshold:\n",
    "            predictions.append(1)\n",
    "        else:\n",
    "            predictions.append(0)\n",
    "    return np.array(predictions)"
   ]
  },
  {
   "cell_type": "code",
   "execution_count": 37,
   "metadata": {},
   "outputs": [],
   "source": [
    "def eval(predictions,true_val):\n",
    "    acc = 0\n",
    "    for pred,true in zip(predictions,true_val):\n",
    "        if pred==true:\n",
    "            acc+=1\n",
    "    return acc/len(true_val)"
   ]
  },
  {
   "cell_type": "code",
   "execution_count": 38,
   "metadata": {},
   "outputs": [],
   "source": [
    "topk = get_top(X,labels,k=10)\n",
    "np.random.shuffle(topk)"
   ]
  },
  {
   "cell_type": "code",
   "execution_count": 167,
   "metadata": {},
   "outputs": [],
   "source": [
    "def eval_siamese(X_sample,label_sample,k=5,threshold = 17):\n",
    "    topk = get_top(X,labels,k)\n",
    "    np.random.shuffle(topk)\n",
    "    predictions = []\n",
    "    for sample,label in zip(X_sample.to_numpy(),label_sample):\n",
    "        pairs = []\n",
    "        pair_labels = []\n",
    "        for row in topk:\n",
    "            pairs.append(np.hstack((sample[:],row[:-1])))\n",
    "            pair_labels.append(row[-1])\n",
    "        pairs = np.vstack(pairs)\n",
    "        pair_labels = np.array(pair_labels).astype(int)\n",
    "        sample_predictions = predict_siamese(NN,pairs,threshold=threshold)\n",
    "        predict = np.bincount(pair_labels[sample_predictions==1])\n",
    "        if predict.size:\n",
    "            predictions.append(predict.argmax())\n",
    "        else:\n",
    "            predictions.append(10)\n",
    "    acc = eval(np.array(predictions),label_sample.argmax(axis=1))\n",
    "    return {'k':k,'acc':acc}"
   ]
  },
  {
   "cell_type": "code",
   "execution_count": 178,
   "metadata": {},
   "outputs": [],
   "source": [
    "outputs = []\n",
    "output = eval_siamese(X_val,y_val,k=50)\n",
    "outputs.append(output)"
   ]
  },
  {
   "cell_type": "markdown",
   "metadata": {},
   "source": []
  },
  {
   "cell_type": "code",
   "execution_count": 180,
   "metadata": {},
   "outputs": [
    {
     "data": {
      "text/plain": [
       "[{'k': 50, 'acc': 0.7995}]"
      ]
     },
     "execution_count": 180,
     "metadata": {},
     "output_type": "execute_result"
    }
   ],
   "source": [
    "outputs"
   ]
  },
  {
   "cell_type": "code",
   "execution_count": 82,
   "metadata": {},
   "outputs": [],
   "source": [
    "# Multiclass values\n",
    "plotsA = [{'dataset': 'test', 'acc': 0.9743571},#test,\n",
    "{'dataset': 'validation', 'acc': 0.9837}#val\n",
    ", {'dataset': 'training', 'acc': 0.978}]"
   ]
  },
  {
   "cell_type": "code",
   "execution_count": 83,
   "metadata": {},
   "outputs": [],
   "source": [
    "plots = pd.DataFrame(outputs)\n",
    "\n",
    "plotsA = pd.DataFrame(plotsA)"
   ]
  },
  {
   "cell_type": "code",
   "execution_count": null,
   "metadata": {},
   "outputs": [
    {
     "data": {
      "image/png": "[encoded data removed]",
      "text/plain": [
       "<Figure size 640x480 with 1 Axes>"
      ]
     },
     "metadata": {},
     "output_type": "display_data"
    }
   ],
   "source": [
    "X_axis =np.arange(len(plots))\n",
    "plt.bar(X_axis+0.2,plotsA['acc'],0.4,label='ANN')\n",
    "plt.bar(X_axis-0.2,plots['acc'],0.4,label='Binary Classifier')\n",
    "plt.xticks(X_axis,plots['dataset'])\n",
    "plt.title('Accuracy Plot for Classifiers')\n",
    "plt.xlabel('Dataset')\n",
    "plt.ylabel('Accuracy')\n",
    "plt.ylim(0.9,1.0)\n",
    "plt.legend()\n",
    "plt.savefig('./graph/compare.png')"
   ]
  },
  {
   "cell_type": "code",
   "execution_count": 127,
   "metadata": {},
   "outputs": [
    {
     "data": {
      "application/vnd.jupyter.widget-view+json": {
       "model_id": "196884f4d1d846269cdc19e424edbe82",
       "version_major": 2,
       "version_minor": 0
      },
      "text/plain": [
       "  0%|          | 0/7 [00:00<?, ?it/s]"
      ]
     },
     "metadata": {},
     "output_type": "display_data"
    },
    {
     "ename": "KeyboardInterrupt",
     "evalue": "",
     "output_type": "error",
     "traceback": [
      "\u001b[0;31m---------------------------------------------------------------------------\u001b[0m",
      "\u001b[0;31mKeyboardInterrupt\u001b[0m                         Traceback (most recent call last)",
      "Cell \u001b[0;32mIn[127], line 3\u001b[0m\n\u001b[1;32m      1\u001b[0m outputs \u001b[38;5;241m=\u001b[39m []\n\u001b[1;32m      2\u001b[0m \u001b[38;5;28;01mfor\u001b[39;00m k \u001b[38;5;129;01min\u001b[39;00m tqdm\u001b[38;5;241m.\u001b[39mtqdm([\u001b[38;5;241m1\u001b[39m,\u001b[38;5;241m2\u001b[39m,\u001b[38;5;241m4\u001b[39m,\u001b[38;5;241m8\u001b[39m,\u001b[38;5;241m16\u001b[39m,\u001b[38;5;241m32\u001b[39m,\u001b[38;5;241m64\u001b[39m]):\n\u001b[0;32m----> 3\u001b[0m     output \u001b[38;5;241m=\u001b[39m \u001b[43meval_siamese\u001b[49m\u001b[43m(\u001b[49m\u001b[43mX_test\u001b[49m\u001b[43m,\u001b[49m\u001b[43my_test\u001b[49m\u001b[43m,\u001b[49m\u001b[43mk\u001b[49m\u001b[38;5;241;43m=\u001b[39;49m\u001b[43mk\u001b[49m\u001b[43m)\u001b[49m\n\u001b[1;32m      4\u001b[0m     outputs\u001b[38;5;241m.\u001b[39mappend(output)\n",
      "Cell \u001b[0;32mIn[116], line 13\u001b[0m, in \u001b[0;36meval_siamese\u001b[0;34m(X_sample, label_sample, k, threshold)\u001b[0m\n\u001b[1;32m     11\u001b[0m pairs \u001b[38;5;241m=\u001b[39m np\u001b[38;5;241m.\u001b[39mvstack(pairs)\n\u001b[1;32m     12\u001b[0m pair_labels \u001b[38;5;241m=\u001b[39m np\u001b[38;5;241m.\u001b[39marray(pair_labels)\u001b[38;5;241m.\u001b[39mastype(\u001b[38;5;28mint\u001b[39m)\n\u001b[0;32m---> 13\u001b[0m sample_predictions \u001b[38;5;241m=\u001b[39m \u001b[43mpredict_siamese\u001b[49m\u001b[43m(\u001b[49m\u001b[43mNN\u001b[49m\u001b[43m,\u001b[49m\u001b[43mpairs\u001b[49m\u001b[43m,\u001b[49m\u001b[43mthreshold\u001b[49m\u001b[38;5;241;43m=\u001b[39;49m\u001b[43mthreshold\u001b[49m\u001b[43m)\u001b[49m\n\u001b[1;32m     14\u001b[0m predict \u001b[38;5;241m=\u001b[39m np\u001b[38;5;241m.\u001b[39mbincount(pair_labels[sample_predictions\u001b[38;5;241m==\u001b[39m\u001b[38;5;241m1\u001b[39m])\n\u001b[1;32m     15\u001b[0m \u001b[38;5;28;01mif\u001b[39;00m predict\u001b[38;5;241m.\u001b[39msize:\n",
      "Cell \u001b[0;32mIn[126], line 8\u001b[0m, in \u001b[0;36mpredict_siamese\u001b[0;34m(NN, X, threshold)\u001b[0m\n\u001b[1;32m      5\u001b[0m second_images \u001b[38;5;241m=\u001b[39m []\n\u001b[1;32m      7\u001b[0m \u001b[38;5;28;01mfor\u001b[39;00m sample \u001b[38;5;129;01min\u001b[39;00m X_sample:\n\u001b[0;32m----> 8\u001b[0m     first_images\u001b[38;5;241m.\u001b[39mappend(\u001b[43mpredict\u001b[49m\u001b[43m(\u001b[49m\u001b[43mNN\u001b[49m\u001b[43m,\u001b[49m\u001b[43msample\u001b[49m\u001b[43m[\u001b[49m\u001b[38;5;241;43m0\u001b[39;49m\u001b[43m]\u001b[49m\u001b[38;5;241;43m.\u001b[39;49m\u001b[43mreshape\u001b[49m\u001b[43m(\u001b[49m\u001b[38;5;241;43m784\u001b[39;49m\u001b[43m,\u001b[49m\u001b[38;5;241;43m1\u001b[39;49m\u001b[43m)\u001b[49m\u001b[43m)\u001b[49m)\n\u001b[1;32m      9\u001b[0m     second_images\u001b[38;5;241m.\u001b[39mappend(predict(NN,sample[\u001b[38;5;241m1\u001b[39m]\u001b[38;5;241m.\u001b[39mreshape(\u001b[38;5;241m784\u001b[39m,\u001b[38;5;241m1\u001b[39m)))\n\u001b[1;32m     11\u001b[0m \u001b[38;5;28;01mfor\u001b[39;00m first,second \u001b[38;5;129;01min\u001b[39;00m \u001b[38;5;28mzip\u001b[39m(first_images,second_images):\n",
      "Cell \u001b[0;32mIn[109], line 4\u001b[0m, in \u001b[0;36mpredict\u001b[0;34m(NN, input)\u001b[0m\n\u001b[1;32m      2\u001b[0m out \u001b[38;5;241m=\u001b[39m \u001b[38;5;28minput\u001b[39m\n\u001b[1;32m      3\u001b[0m \u001b[38;5;28;01mfor\u001b[39;00m n \u001b[38;5;129;01min\u001b[39;00m NN[:\u001b[38;5;241m-\u001b[39m\u001b[38;5;241m1\u001b[39m]:\n\u001b[0;32m----> 4\u001b[0m     out \u001b[38;5;241m=\u001b[39m \u001b[43mn\u001b[49m\u001b[38;5;241;43m.\u001b[39;49m\u001b[43mforward\u001b[49m\u001b[43m(\u001b[49m\u001b[43mout\u001b[49m\u001b[43m)\u001b[49m\n\u001b[1;32m      5\u001b[0m \u001b[38;5;28;01mreturn\u001b[39;00m out\n",
      "File \u001b[0;32m~/GITHUB/ELL784/Assignment3/NeuralNetwork/activations.py:20\u001b[0m, in \u001b[0;36mSigmoid.forward\u001b[0;34m(self, inp)\u001b[0m\n\u001b[1;32m     18\u001b[0m \u001b[38;5;28;01mdef\u001b[39;00m \u001b[38;5;21mforward\u001b[39m(\u001b[38;5;28mself\u001b[39m, inp):\n\u001b[1;32m     19\u001b[0m     \u001b[38;5;28mself\u001b[39m\u001b[38;5;241m.\u001b[39minput \u001b[38;5;241m=\u001b[39m inp\n\u001b[0;32m---> 20\u001b[0m     \u001b[38;5;28;01mreturn\u001b[39;00m \u001b[38;5;28;43mself\u001b[39;49m\u001b[38;5;241;43m.\u001b[39;49m\u001b[43mactivation\u001b[49m\u001b[43m(\u001b[49m\u001b[38;5;28;43mself\u001b[39;49m\u001b[38;5;241;43m.\u001b[39;49m\u001b[43minput\u001b[49m\u001b[43m)\u001b[49m\n",
      "File \u001b[0;32m~/GITHUB/ELL784/Assignment3/NeuralNetwork/activations.py:6\u001b[0m, in \u001b[0;36mSigmoid.__init__.<locals>.sigmoid\u001b[0;34m(z)\u001b[0m\n\u001b[1;32m      5\u001b[0m \u001b[38;5;28;01mdef\u001b[39;00m \u001b[38;5;21msigmoid\u001b[39m(z):\n\u001b[0;32m----> 6\u001b[0m     z \u001b[38;5;241m=\u001b[39m \u001b[43mnp\u001b[49m\u001b[38;5;241;43m.\u001b[39;49m\u001b[43mclip\u001b[49m\u001b[43m(\u001b[49m\u001b[43mz\u001b[49m\u001b[43m,\u001b[49m\u001b[43m \u001b[49m\u001b[38;5;241;43m-\u001b[39;49m\u001b[38;5;241;43m100\u001b[39;49m\u001b[43m,\u001b[49m\u001b[43m \u001b[49m\u001b[38;5;241;43m100\u001b[39;49m\u001b[43m)\u001b[49m\n\u001b[1;32m      8\u001b[0m     sig \u001b[38;5;241m=\u001b[39m \u001b[38;5;241m1\u001b[39m \u001b[38;5;241m+\u001b[39m np\u001b[38;5;241m.\u001b[39mexp(\u001b[38;5;241m-\u001b[39mz)\n\u001b[1;32m      9\u001b[0m     \u001b[38;5;28;01mreturn\u001b[39;00m \u001b[38;5;241m1\u001b[39m \u001b[38;5;241m/\u001b[39m sig\n",
      "File \u001b[0;32m~/.local/share/virtualenvs/ELL784-0C_wN4yj/lib/python3.12/site-packages/numpy/core/fromnumeric.py:2169\u001b[0m, in \u001b[0;36mclip\u001b[0;34m(a, a_min, a_max, out, **kwargs)\u001b[0m\n\u001b[1;32m   2100\u001b[0m \u001b[38;5;129m@array_function_dispatch\u001b[39m(_clip_dispatcher)\n\u001b[1;32m   2101\u001b[0m \u001b[38;5;28;01mdef\u001b[39;00m \u001b[38;5;21mclip\u001b[39m(a, a_min, a_max, out\u001b[38;5;241m=\u001b[39m\u001b[38;5;28;01mNone\u001b[39;00m, \u001b[38;5;241m*\u001b[39m\u001b[38;5;241m*\u001b[39mkwargs):\n\u001b[1;32m   2102\u001b[0m \u001b[38;5;250m    \u001b[39m\u001b[38;5;124;03m\"\"\"\u001b[39;00m\n\u001b[1;32m   2103\u001b[0m \u001b[38;5;124;03m    Clip (limit) the values in an array.\u001b[39;00m\n\u001b[1;32m   2104\u001b[0m \n\u001b[0;32m   (...)\u001b[0m\n\u001b[1;32m   2167\u001b[0m \n\u001b[1;32m   2168\u001b[0m \u001b[38;5;124;03m    \"\"\"\u001b[39;00m\n\u001b[0;32m-> 2169\u001b[0m     \u001b[38;5;28;01mreturn\u001b[39;00m \u001b[43m_wrapfunc\u001b[49m\u001b[43m(\u001b[49m\u001b[43ma\u001b[49m\u001b[43m,\u001b[49m\u001b[43m \u001b[49m\u001b[38;5;124;43m'\u001b[39;49m\u001b[38;5;124;43mclip\u001b[39;49m\u001b[38;5;124;43m'\u001b[39;49m\u001b[43m,\u001b[49m\u001b[43m \u001b[49m\u001b[43ma_min\u001b[49m\u001b[43m,\u001b[49m\u001b[43m \u001b[49m\u001b[43ma_max\u001b[49m\u001b[43m,\u001b[49m\u001b[43m \u001b[49m\u001b[43mout\u001b[49m\u001b[38;5;241;43m=\u001b[39;49m\u001b[43mout\u001b[49m\u001b[43m,\u001b[49m\u001b[43m \u001b[49m\u001b[38;5;241;43m*\u001b[39;49m\u001b[38;5;241;43m*\u001b[39;49m\u001b[43mkwargs\u001b[49m\u001b[43m)\u001b[49m\n",
      "File \u001b[0;32m~/.local/share/virtualenvs/ELL784-0C_wN4yj/lib/python3.12/site-packages/numpy/core/fromnumeric.py:59\u001b[0m, in \u001b[0;36m_wrapfunc\u001b[0;34m(obj, method, *args, **kwds)\u001b[0m\n\u001b[1;32m     56\u001b[0m     \u001b[38;5;28;01mreturn\u001b[39;00m _wrapit(obj, method, \u001b[38;5;241m*\u001b[39margs, \u001b[38;5;241m*\u001b[39m\u001b[38;5;241m*\u001b[39mkwds)\n\u001b[1;32m     58\u001b[0m \u001b[38;5;28;01mtry\u001b[39;00m:\n\u001b[0;32m---> 59\u001b[0m     \u001b[38;5;28;01mreturn\u001b[39;00m \u001b[43mbound\u001b[49m\u001b[43m(\u001b[49m\u001b[38;5;241;43m*\u001b[39;49m\u001b[43margs\u001b[49m\u001b[43m,\u001b[49m\u001b[43m \u001b[49m\u001b[38;5;241;43m*\u001b[39;49m\u001b[38;5;241;43m*\u001b[39;49m\u001b[43mkwds\u001b[49m\u001b[43m)\u001b[49m\n\u001b[1;32m     60\u001b[0m \u001b[38;5;28;01mexcept\u001b[39;00m \u001b[38;5;167;01mTypeError\u001b[39;00m:\n\u001b[1;32m     61\u001b[0m     \u001b[38;5;66;03m# A TypeError occurs if the object does have such a method in its\u001b[39;00m\n\u001b[1;32m     62\u001b[0m     \u001b[38;5;66;03m# class, but its signature is not identical to that of NumPy's. This\u001b[39;00m\n\u001b[0;32m   (...)\u001b[0m\n\u001b[1;32m     66\u001b[0m     \u001b[38;5;66;03m# Call _wrapit from within the except clause to ensure a potential\u001b[39;00m\n\u001b[1;32m     67\u001b[0m     \u001b[38;5;66;03m# exception has a traceback chain.\u001b[39;00m\n\u001b[1;32m     68\u001b[0m     \u001b[38;5;28;01mreturn\u001b[39;00m _wrapit(obj, method, \u001b[38;5;241m*\u001b[39margs, \u001b[38;5;241m*\u001b[39m\u001b[38;5;241m*\u001b[39mkwds)\n",
      "File \u001b[0;32m~/.local/share/virtualenvs/ELL784-0C_wN4yj/lib/python3.12/site-packages/numpy/core/_methods.py:99\u001b[0m, in \u001b[0;36m_clip\u001b[0;34m(a, min, max, out, **kwargs)\u001b[0m\n\u001b[1;32m     97\u001b[0m     \u001b[38;5;28;01mreturn\u001b[39;00m um\u001b[38;5;241m.\u001b[39mmaximum(a, \u001b[38;5;28mmin\u001b[39m, out\u001b[38;5;241m=\u001b[39mout, \u001b[38;5;241m*\u001b[39m\u001b[38;5;241m*\u001b[39mkwargs)\n\u001b[1;32m     98\u001b[0m \u001b[38;5;28;01melse\u001b[39;00m:\n\u001b[0;32m---> 99\u001b[0m     \u001b[38;5;28;01mreturn\u001b[39;00m \u001b[43mum\u001b[49m\u001b[38;5;241;43m.\u001b[39;49m\u001b[43mclip\u001b[49m\u001b[43m(\u001b[49m\u001b[43ma\u001b[49m\u001b[43m,\u001b[49m\u001b[43m \u001b[49m\u001b[38;5;28;43mmin\u001b[39;49m\u001b[43m,\u001b[49m\u001b[43m \u001b[49m\u001b[38;5;28;43mmax\u001b[39;49m\u001b[43m,\u001b[49m\u001b[43m \u001b[49m\u001b[43mout\u001b[49m\u001b[38;5;241;43m=\u001b[39;49m\u001b[43mout\u001b[49m\u001b[43m,\u001b[49m\u001b[43m \u001b[49m\u001b[38;5;241;43m*\u001b[39;49m\u001b[38;5;241;43m*\u001b[39;49m\u001b[43mkwargs\u001b[49m\u001b[43m)\u001b[49m\n",
      "\u001b[0;31mKeyboardInterrupt\u001b[0m: "
     ]
    }
   ],
   "source": [
    "outputs = []\n",
    "for k in tqdm.tqdm([1,2,4,8,16,32,64]):\n",
    "    output = eval_siamese(X_test,y_test,k=k)\n",
    "    outputs.append(output)"
   ]
  },
  {
   "cell_type": "code",
   "execution_count": 109,
   "metadata": {},
   "outputs": [],
   "source": [
    "def predict(NN, input):\n",
    "    out = input\n",
    "    for n in NN[:-1]:\n",
    "        out = n.forward(out)\n",
    "    return out"
   ]
  },
  {
   "cell_type": "code",
   "execution_count": 108,
   "metadata": {},
   "outputs": [
    {
     "data": {
      "text/plain": [
       "(2000, 784)"
      ]
     },
     "execution_count": 108,
     "metadata": {},
     "output_type": "execute_result"
    }
   ],
   "source": [
    "X_val.shape"
   ]
  },
  {
   "cell_type": "code",
   "execution_count": 112,
   "metadata": {},
   "outputs": [],
   "source": [
    "plots = pd.DataFrame(outputs)"
   ]
  },
  {
   "cell_type": "code",
   "execution_count": 113,
   "metadata": {},
   "outputs": [
    {
     "data": {
      "image/png": "[encoded data removed]",
      "text/plain": [
       "<Figure size 640x480 with 1 Axes>"
      ]
     },
     "metadata": {},
     "output_type": "display_data"
    }
   ],
   "source": [
    "plt.plot(plots['k'],plots['acc'])\n",
    "plt.title('Accuracy vs K')\n",
    "plt.xlabel('k value')\n",
    "plt.ylabel('Test Accuracy')\n",
    "plt.savefig('./graph/acc_vs_k.png')"
   ]
  }
 ],
 "metadata": {
  "kernelspec": {
   "display_name": "ELL784-0C_wN4yj",
   "language": "python",
   "name": "python3"
  },
  "language_info": {
   "codemirror_mode": {
    "name": "ipython",
    "version": 3
   },
   "file_extension": ".py",
   "mimetype": "text/x-python",
   "name": "python",
   "nbconvert_exporter": "python",
   "pygments_lexer": "ipython3",
   "version": "3.12.4"
  }
 },
 "nbformat": 4,
 "nbformat_minor": 2
}
