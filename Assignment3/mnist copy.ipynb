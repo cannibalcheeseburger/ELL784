{
 "cells": [
  {
   "cell_type": "code",
   "execution_count": 1,
   "metadata": {},
   "outputs": [],
   "source": [
    "from sklearn.datasets import fetch_openml\n",
    "from sklearn.metrics import accuracy_score,classification_report\n",
    "import numpy as np\n",
    "import pandas as pd\n",
    "import matplotlib.pyplot as plt\n",
    "from sklearn.model_selection import train_test_split\n",
    "import tqdm.notebook as tqdm"
   ]
  },
  {
   "cell_type": "code",
   "execution_count": 2,
   "metadata": {},
   "outputs": [],
   "source": [
    "from NeuralNetwork.dense import Dense\n",
    "from NeuralNetwork.activations import Sigmoid,Softmax,ReLU\n",
    "from NeuralNetwork.losses import categorical_crossentropy, categorical_crossentropy_derive\n",
    "from NeuralNetwork.network import predict"
   ]
  },
  {
   "cell_type": "code",
   "execution_count": 3,
   "metadata": {},
   "outputs": [],
   "source": [
    "mnist = fetch_openml('mnist_784')"
   ]
  },
  {
   "cell_type": "code",
   "execution_count": 62,
   "metadata": {},
   "outputs": [],
   "source": [
    "X = mnist.data/255.0\n",
    "labels = np.array( mnist.target).astype(int)\n",
    "y = np.squeeze(np.eye(10)[labels])\n",
    "X_train,X_test,y_train,y_test = train_test_split(X,y,test_size=0.2,shuffle=True)\n",
    "X_val, y_val = X_train.iloc[:2000],y_train[:2000]"
   ]
  },
  {
   "cell_type": "code",
   "execution_count": 5,
   "metadata": {},
   "outputs": [
    {
     "data": {
      "text/plain": [
       "(70000,)"
      ]
     },
     "execution_count": 5,
     "metadata": {},
     "output_type": "execute_result"
    }
   ],
   "source": [
    "labels.shape"
   ]
  },
  {
   "cell_type": "code",
   "execution_count": 6,
   "metadata": {},
   "outputs": [],
   "source": [
    "def train(NN, loss, loss_derive, X_train, y_train,X_val,y_val,epoch=20, alpha=0.05, verbose = True):\n",
    "    X_train = np.reshape(X_train,X_train.shape +(1,))\n",
    "    y_train = np.reshape(y_train,y_train.shape +(1,))\n",
    "    X_val = np.reshape(X_val,X_val.shape +(1,))\n",
    "    y_val = np.reshape(y_val,y_val.shape +(1,))\n",
    "    error_TS = []\n",
    "    acc_TS = []\n",
    "    val_error_TS = []\n",
    "    val_acc_TS = []\n",
    "    for e in range(epoch):\n",
    "        errors= 0\n",
    "        acc =0\n",
    "        val_error = 0\n",
    "        val_acc = 0\n",
    "        for x, y in zip(X_train, y_train):\n",
    "            # forward\n",
    "            out = predict(NN, x)\n",
    "            if np.argmax(y)==np.argmax(out):\n",
    "                acc+=1\n",
    "            # error\n",
    "\n",
    "            errors+= loss(y, out)\n",
    "\n",
    "            # backward\n",
    "            gradient = loss_derive(y, out)\n",
    "            for layer in reversed(NN):\n",
    "                gradient = layer.backward(gradient, alpha)\n",
    "\n",
    "        for x, y in zip(X_val, y_val):\n",
    "            output = predict(NN, x)\n",
    "            if np.argmax(y)==np.argmax(output):\n",
    "                val_acc+=1\n",
    "            val_error += loss(y, output)\n",
    "        \n",
    "        errors/= len(X_train)\n",
    "        acc /=len(X_train)\n",
    "        val_error /= len(X_val)\n",
    "        val_acc /=len(X_val)\n",
    "\n",
    "        if verbose:\n",
    "            print(f\"{e + 1}/{epoch}, error={round(errors,4)}, accuracy={round(acc,4)}, val_error={round(val_error,4)}, val_accuracy={round(val_acc,4)}\")\n",
    "        error_TS.append(errors)\n",
    "        acc_TS.append(acc)\n",
    "        val_error_TS.append(val_error)\n",
    "        val_acc_TS.append(val_acc)\n",
    "    return [error_TS,acc_TS,val_error_TS,val_acc_TS]"
   ]
  },
  {
   "cell_type": "code",
   "execution_count": 7,
   "metadata": {},
   "outputs": [],
   "source": [
    "def graph_train(train_error,train_acc,val_error,val_acc,index=False):\n",
    "    add_index = \"\"\n",
    "    if index:\n",
    "        add_index+=index\n",
    "    plt.plot(train_error)\n",
    "    plt.plot(val_error)\n",
    "    plt.xlabel(\"Epochs\")\n",
    "    plt.ylabel(\"Error\")        \n",
    "    plt.legend(['train error','validation error'])\n",
    "    plt.savefig(\"./graph/Error{}.png\".format(add_index))\n",
    "    plt.clf()\n",
    "    plt.plot(train_acc)\n",
    "    plt.plot(val_acc)\n",
    "    plt.xlabel(\"Epochs\")\n",
    "    plt.ylabel(\"Accuracy\")\n",
    "    plt.legend(['train accuracy','validation accuracy'])\n",
    "\n",
    "    plt.savefig(\"./graph/Accuracy{}.png\".format(add_index))"
   ]
  },
  {
   "cell_type": "code",
   "execution_count": 16,
   "metadata": {},
   "outputs": [],
   "source": [
    "NN = [Dense(784,40),\n",
    "      Sigmoid(),\n",
    "      Dense(40,10),\n",
    "      Softmax()]"
   ]
  },
  {
   "cell_type": "code",
   "execution_count": 10,
   "metadata": {},
   "outputs": [],
   "source": [
    "X_in = get_top(X,labels,100)"
   ]
  },
  {
   "cell_type": "code",
   "execution_count": 11,
   "metadata": {},
   "outputs": [],
   "source": [
    "Y_in = X_in[:,-1:]\n",
    "X_in  = X_in[:,:-1]"
   ]
  },
  {
   "cell_type": "code",
   "execution_count": 12,
   "metadata": {},
   "outputs": [],
   "source": [
    "Y_in =  np.squeeze(np.eye(10)[Y_in.astype(int).squeeze()])"
   ]
  },
  {
   "cell_type": "code",
   "execution_count": 13,
   "metadata": {},
   "outputs": [
    {
     "data": {
      "text/plain": [
       "array([[1., 0., 0., ..., 0., 0., 0.],\n",
       "       [1., 0., 0., ..., 0., 0., 0.],\n",
       "       [1., 0., 0., ..., 0., 0., 0.],\n",
       "       ...,\n",
       "       [0., 0., 0., ..., 0., 0., 1.],\n",
       "       [0., 0., 0., ..., 0., 0., 1.],\n",
       "       [0., 0., 0., ..., 0., 0., 1.]])"
      ]
     },
     "execution_count": 13,
     "metadata": {},
     "output_type": "execute_result"
    }
   ],
   "source": [
    "Y_in"
   ]
  },
  {
   "cell_type": "code",
   "execution_count": 17,
   "metadata": {},
   "outputs": [
    {
     "name": "stdout",
     "output_type": "stream",
     "text": [
      "1/70, error=0.0575, accuracy=0.911, val_error=0.8215, val_accuracy=0.1125\n",
      "2/70, error=0.0306, accuracy=0.931, val_error=0.6645, val_accuracy=0.1235\n",
      "3/70, error=0.0231, accuracy=0.939, val_error=0.5604, val_accuracy=0.1435\n",
      "4/70, error=0.0194, accuracy=0.95, val_error=0.4895, val_accuracy=0.1675\n",
      "5/70, error=0.0167, accuracy=0.958, val_error=0.4265, val_accuracy=0.196\n",
      "6/70, error=0.0151, accuracy=0.966, val_error=0.3841, val_accuracy=0.2375\n",
      "7/70, error=0.0137, accuracy=0.97, val_error=0.353, val_accuracy=0.2775\n",
      "8/70, error=0.0127, accuracy=0.973, val_error=0.3216, val_accuracy=0.319\n",
      "9/70, error=0.0118, accuracy=0.976, val_error=0.3057, val_accuracy=0.3455\n",
      "10/70, error=0.0111, accuracy=0.978, val_error=0.292, val_accuracy=0.359\n",
      "11/70, error=0.0103, accuracy=0.982, val_error=0.2766, val_accuracy=0.386\n",
      "12/70, error=0.0098, accuracy=0.987, val_error=0.2662, val_accuracy=0.402\n",
      "13/70, error=0.0093, accuracy=0.987, val_error=0.2568, val_accuracy=0.42\n",
      "14/70, error=0.0089, accuracy=0.989, val_error=0.2473, val_accuracy=0.438\n",
      "15/70, error=0.0085, accuracy=0.99, val_error=0.2378, val_accuracy=0.458\n",
      "16/70, error=0.0081, accuracy=0.992, val_error=0.2276, val_accuracy=0.4795\n",
      "17/70, error=0.0077, accuracy=0.992, val_error=0.2185, val_accuracy=0.5015\n",
      "18/70, error=0.0073, accuracy=0.995, val_error=0.2107, val_accuracy=0.5165\n",
      "19/70, error=0.007, accuracy=0.997, val_error=0.2037, val_accuracy=0.5285\n",
      "20/70, error=0.0067, accuracy=0.998, val_error=0.1967, val_accuracy=0.5435\n",
      "21/70, error=0.0064, accuracy=0.998, val_error=0.1895, val_accuracy=0.5585\n",
      "22/70, error=0.0061, accuracy=0.998, val_error=0.1822, val_accuracy=0.5695\n",
      "23/70, error=0.0059, accuracy=1.0, val_error=0.1752, val_accuracy=0.5815\n",
      "24/70, error=0.0056, accuracy=1.0, val_error=0.1686, val_accuracy=0.595\n",
      "25/70, error=0.0054, accuracy=1.0, val_error=0.1623, val_accuracy=0.6135\n",
      "26/70, error=0.0051, accuracy=1.0, val_error=0.1565, val_accuracy=0.627\n",
      "27/70, error=0.0049, accuracy=1.0, val_error=0.151, val_accuracy=0.635\n",
      "28/70, error=0.0047, accuracy=1.0, val_error=0.146, val_accuracy=0.6475\n",
      "29/70, error=0.0045, accuracy=1.0, val_error=0.1413, val_accuracy=0.66\n",
      "30/70, error=0.0043, accuracy=1.0, val_error=0.1369, val_accuracy=0.669\n",
      "31/70, error=0.0041, accuracy=1.0, val_error=0.1327, val_accuracy=0.6795\n",
      "32/70, error=0.0039, accuracy=1.0, val_error=0.1287, val_accuracy=0.6885\n",
      "33/70, error=0.0037, accuracy=1.0, val_error=0.125, val_accuracy=0.699\n",
      "34/70, error=0.0035, accuracy=1.0, val_error=0.1215, val_accuracy=0.709\n",
      "35/70, error=0.0034, accuracy=1.0, val_error=0.1183, val_accuracy=0.7145\n",
      "36/70, error=0.0032, accuracy=1.0, val_error=0.1153, val_accuracy=0.7255\n",
      "37/70, error=0.0031, accuracy=1.0, val_error=0.1127, val_accuracy=0.7325\n",
      "38/70, error=0.0029, accuracy=1.0, val_error=0.1103, val_accuracy=0.734\n",
      "39/70, error=0.0028, accuracy=1.0, val_error=0.1081, val_accuracy=0.74\n",
      "40/70, error=0.0026, accuracy=1.0, val_error=0.1062, val_accuracy=0.7435\n",
      "41/70, error=0.0025, accuracy=1.0, val_error=0.1045, val_accuracy=0.747\n",
      "42/70, error=0.0024, accuracy=1.0, val_error=0.103, val_accuracy=0.752\n",
      "43/70, error=0.0023, accuracy=1.0, val_error=0.1016, val_accuracy=0.7555\n",
      "44/70, error=0.0021, accuracy=1.0, val_error=0.1004, val_accuracy=0.7595\n",
      "45/70, error=0.002, accuracy=1.0, val_error=0.0994, val_accuracy=0.7635\n",
      "46/70, error=0.0019, accuracy=1.0, val_error=0.0985, val_accuracy=0.766\n",
      "47/70, error=0.0018, accuracy=1.0, val_error=0.0976, val_accuracy=0.7685\n",
      "48/70, error=0.0017, accuracy=1.0, val_error=0.0969, val_accuracy=0.771\n",
      "49/70, error=0.0016, accuracy=1.0, val_error=0.0963, val_accuracy=0.775\n",
      "50/70, error=0.0016, accuracy=1.0, val_error=0.0958, val_accuracy=0.7765\n",
      "51/70, error=0.0015, accuracy=1.0, val_error=0.0953, val_accuracy=0.778\n",
      "52/70, error=0.0014, accuracy=1.0, val_error=0.0949, val_accuracy=0.782\n",
      "53/70, error=0.0014, accuracy=1.0, val_error=0.0946, val_accuracy=0.784\n",
      "54/70, error=0.0013, accuracy=1.0, val_error=0.0943, val_accuracy=0.7845\n",
      "55/70, error=0.0012, accuracy=1.0, val_error=0.094, val_accuracy=0.7855\n",
      "56/70, error=0.0012, accuracy=1.0, val_error=0.0938, val_accuracy=0.7885\n",
      "57/70, error=0.0011, accuracy=1.0, val_error=0.0936, val_accuracy=0.7885\n",
      "58/70, error=0.0011, accuracy=1.0, val_error=0.0935, val_accuracy=0.789\n",
      "59/70, error=0.001, accuracy=1.0, val_error=0.0934, val_accuracy=0.79\n",
      "60/70, error=0.001, accuracy=1.0, val_error=0.0932, val_accuracy=0.7915\n",
      "61/70, error=0.001, accuracy=1.0, val_error=0.0932, val_accuracy=0.7915\n",
      "62/70, error=0.0009, accuracy=1.0, val_error=0.0931, val_accuracy=0.793\n",
      "63/70, error=0.0009, accuracy=1.0, val_error=0.093, val_accuracy=0.793\n",
      "64/70, error=0.0009, accuracy=1.0, val_error=0.093, val_accuracy=0.792\n",
      "65/70, error=0.0008, accuracy=1.0, val_error=0.0929, val_accuracy=0.793\n",
      "66/70, error=0.0008, accuracy=1.0, val_error=0.0929, val_accuracy=0.794\n",
      "67/70, error=0.0008, accuracy=1.0, val_error=0.0929, val_accuracy=0.795\n",
      "68/70, error=0.0008, accuracy=1.0, val_error=0.0929, val_accuracy=0.7955\n",
      "69/70, error=0.0007, accuracy=1.0, val_error=0.0929, val_accuracy=0.7965\n",
      "70/70, error=0.0007, accuracy=1.0, val_error=0.0929, val_accuracy=0.796\n"
     ]
    }
   ],
   "source": [
    "train_error,train_acc,val_error,val_acc = train(NN,categorical_crossentropy,categorical_crossentropy_derive,X_in,Y_in,X_val,y_val,alpha=0.06,epoch=70)"
   ]
  },
  {
   "cell_type": "code",
   "execution_count": 18,
   "metadata": {},
   "outputs": [
    {
     "data": {
      "image/png": "[encoded data removed]",
      "text/plain": [
       "<Figure size 640x480 with 1 Axes>"
      ]
     },
     "metadata": {},
     "output_type": "display_data"
    }
   ],
   "source": [
    "graph_train(train_error,train_acc,val_error,val_acc,index=\"overfit\")"
   ]
  },
  {
   "cell_type": "code",
   "execution_count": 19,
   "metadata": {},
   "outputs": [],
   "source": [
    "#make pairs\n",
    "k=100"
   ]
  },
  {
   "cell_type": "code",
   "execution_count": 20,
   "metadata": {},
   "outputs": [],
   "source": [
    "from sklearn.utils import shuffle\n",
    "def get_top(X,labels,k=100):\n",
    "    #dataset = np.column_stack((X,labels))\n",
    "    X_sample, labels_sample = shuffle(X, labels, )\n",
    "\n",
    "    topk = []\n",
    "    for _class in range(10):\n",
    "        class_index = np.where(labels_sample==_class)[0][:k]\n",
    "        topk.append(np.column_stack((X_sample.iloc[class_index],labels_sample[class_index])))\n",
    "    topk = np.vstack(topk)\n",
    "    return topk"
   ]
  },
  {
   "cell_type": "code",
   "execution_count": 21,
   "metadata": {},
   "outputs": [],
   "source": [
    "top100 = get_top(X,labels)\n",
    "np.random.shuffle(top100)"
   ]
  },
  {
   "cell_type": "code",
   "execution_count": 22,
   "metadata": {},
   "outputs": [],
   "source": [
    "pairs = []\n",
    "pair_labels = []\n",
    "for row1 in top100:\n",
    "    for row2 in top100:\n",
    "        pairs.append(np.hstack((row2[:-1],row1[:-1])))\n",
    "        if row1[-1]==row2[-1]:\n",
    "            pair_labels.append(1)\n",
    "        else:\n",
    "            pair_labels.append(0)\n",
    "\n",
    "pairs = np.vstack(pairs)\n",
    "pair_labels = np.array(pair_labels)"
   ]
  },
  {
   "cell_type": "code",
   "execution_count": 24,
   "metadata": {},
   "outputs": [],
   "source": [
    "def predict_siamese(NN,X,threshold=1.0):\n",
    "    X_sample = X.reshape(len(X), 2, 784)\n",
    "    predictions = []\n",
    "    first_images = []\n",
    "    second_images = []\n",
    "    \n",
    "    for sample in X_sample:\n",
    "        first_images.append(predict(NN,sample[0].reshape(784,1)))\n",
    "        second_images.append(predict(NN,sample[1].reshape(784,1)))\n",
    "\n",
    "    for first,second in zip(first_images,second_images):\n",
    "        euclidean_dist =np.sqrt(np.sum(np.square(first - second)))\n",
    "        if euclidean_dist< :\n",
    "            predictions.append(1)\n",
    "        else:\n",
    "            predictions.append(0)\n",
    "    return np.array(predictions)"
   ]
  },
  {
   "cell_type": "code",
   "execution_count": 25,
   "metadata": {},
   "outputs": [],
   "source": [
    "def eval(predictions,true_val):\n",
    "    acc = 0\n",
    "    for pred,true in zip(predictions,true_val):\n",
    "        if pred==true:\n",
    "            acc+=1\n",
    "    return acc/len(true_val)"
   ]
  },
  {
   "cell_type": "code",
   "execution_count": 26,
   "metadata": {},
   "outputs": [],
   "source": [
    "topk = get_top(X,labels,k=10)\n",
    "np.random.shuffle(topk)"
   ]
  },
  {
   "cell_type": "code",
   "execution_count": 34,
   "metadata": {},
   "outputs": [],
   "source": [
    "def eval_siamese(X_sample,label_sample,k=5,threshold = 17):\n",
    "    topk = get_top(X,labels,k)\n",
    "    np.random.shuffle(topk)\n",
    "    predictions = []\n",
    "    for sample,label in tqdm.tqdm(zip(X_sample.to_numpy(),label_sample)):\n",
    "        pairs = []\n",
    "        pair_labels = []\n",
    "        for row in topk:\n",
    "            pairs.append(np.hstack((sample[:],row[:-1])))\n",
    "            pair_labels.append(row[-1])\n",
    "        pairs = np.vstack(pairs)\n",
    "        pair_labels = np.array(pair_labels).astype(int)\n",
    "        sample_predictions = predict_siamese(NN,pairs,threshold=threshold)\n",
    "        predict = np.bincount(pair_labels[sample_predictions==1])\n",
    "        if predict.size:\n",
    "            predictions.append(predict.argmax())\n",
    "        else:\n",
    "            predictions.append(10)\n",
    "    acc = eval(np.array(predictions),label_sample.argmax(axis=1))\n",
    "    return {'k':k,'acc':acc}"
   ]
  },
  {
   "cell_type": "code",
   "execution_count": 42,
   "metadata": {},
   "outputs": [],
   "source": [
    "def predict(NN, input):\n",
    "    out = input\n",
    "    for n in NN[:-1]:\n",
    "        out = n.forward(out)\n",
    "    return out"
   ]
  },
  {
   "cell_type": "code",
   "execution_count": 64,
   "metadata": {},
   "outputs": [
    {
     "data": {
      "application/vnd.jupyter.widget-view+json": {
       "model_id": "fb006066278440078acd2d76821012a0",
       "version_major": 2,
       "version_minor": 0
      },
      "text/plain": [
       "0it [00:00, ?it/s]"
      ]
     },
     "metadata": {},
     "output_type": "display_data"
    },
    {
     "data": {
      "application/vnd.jupyter.widget-view+json": {
       "model_id": "95661e72058744f9a58dd7e36885f906",
       "version_major": 2,
       "version_minor": 0
      },
      "text/plain": [
       "0it [00:00, ?it/s]"
      ]
     },
     "metadata": {},
     "output_type": "display_data"
    },
    {
     "data": {
      "application/vnd.jupyter.widget-view+json": {
       "model_id": "19a03dda5ed947979a94082c0c6d1f6b",
       "version_major": 2,
       "version_minor": 0
      },
      "text/plain": [
       "0it [00:00, ?it/s]"
      ]
     },
     "metadata": {},
     "output_type": "display_data"
    }
   ],
   "source": [
    "outputs = []\n",
    "for X_sample,y_label in zip([X_test,X_val,X_train],[y_test,y_val,y_train]):\n",
    "    output = eval_siamese(X_sample,y_label,k=30)\n",
    "    outputs.append(output)"
   ]
  },
  {
   "cell_type": "code",
   "execution_count": 80,
   "metadata": {},
   "outputs": [
    {
     "data": {
      "application/vnd.jupyter.widget-view+json": {
       "model_id": "df7ef5ae3d2c457788e9eccc8b3a6e5d",
       "version_major": 2,
       "version_minor": 0
      },
      "text/plain": [
       "0it [00:00, ?it/s]"
      ]
     },
     "metadata": {},
     "output_type": "display_data"
    },
    {
     "data": {
      "application/vnd.jupyter.widget-view+json": {
       "model_id": "0ebb767b4de44902b4cc26e8f564775d",
       "version_major": 2,
       "version_minor": 0
      },
      "text/plain": [
       "0it [00:00, ?it/s]"
      ]
     },
     "metadata": {},
     "output_type": "display_data"
    },
    {
     "data": {
      "application/vnd.jupyter.widget-view+json": {
       "model_id": "ced2bfcc09e9478cb606febd895a54da",
       "version_major": 2,
       "version_minor": 0
      },
      "text/plain": [
       "0it [00:00, ?it/s]"
      ]
     },
     "metadata": {},
     "output_type": "display_data"
    }
   ],
   "source": [
    "outputs = []\n",
    "for X_sample,y_label in zip([X_test,X_val,X_train],[y_test,y_val,y_train]):\n",
    "    output = eval_siamese(X_sample,y_label,k=30)\n",
    "    outputs.append(output)"
   ]
  },
  {
   "cell_type": "markdown",
   "metadata": {},
   "source": []
  },
  {
   "cell_type": "code",
   "execution_count": 81,
   "metadata": {},
   "outputs": [
    {
     "data": {
      "text/plain": [
       "[{'k': 30, 'acc': 0.7757857142857143},\n",
       " {'k': 30, 'acc': 0.781},\n",
       " {'k': 30, 'acc': 0.7795}]"
      ]
     },
     "execution_count": 81,
     "metadata": {},
     "output_type": "execute_result"
    }
   ],
   "source": [
    "outputs"
   ]
  },
  {
   "cell_type": "code",
   "execution_count": 82,
   "metadata": {},
   "outputs": [],
   "source": [
    "datasets = ['test','validation','training']\n",
    "for i in range(len(outputs)):\n",
    "    outputs[i]['dataset'] = datasets[i]"
   ]
  },
  {
   "cell_type": "code",
   "execution_count": 83,
   "metadata": {},
   "outputs": [],
   "source": [
    "# Multiclass values\n",
    "plotsA = [{'dataset': 'test', 'acc': 0.9743571},#test,\n",
    "{'dataset': 'validation', 'acc': 0.9837}#val\n",
    ", {'dataset': 'training', 'acc': 0.978}]"
   ]
  },
  {
   "cell_type": "code",
   "execution_count": 84,
   "metadata": {},
   "outputs": [],
   "source": [
    "plots = pd.DataFrame(outputs)\n",
    "\n",
    "plotsA = pd.DataFrame(plotsA)"
   ]
  },
  {
   "cell_type": "code",
   "execution_count": 85,
   "metadata": {},
   "outputs": [
    {
     "data": {
      "image/png": "[encoded data removed]",
      "text/plain": [
       "<Figure size 640x480 with 1 Axes>"
      ]
     },
     "metadata": {},
     "output_type": "display_data"
    }
   ],
   "source": [
    "X_axis =np.arange(len(plots))\n",
    "plt.bar(X_axis+0.2,plotsA['acc'],0.4,label='ANN')\n",
    "plt.bar(X_axis-0.2,plots['acc'],0.4,label='Binary Classifier')\n",
    "plt.xticks(X_axis,plots['dataset'])\n",
    "plt.title('Accuracy Plot for Classifiers')\n",
    "plt.xlabel('Dataset')\n",
    "plt.ylabel('Accuracy')\n",
    "#plt.ylim(0.5,1.0)\n",
    "plt.legend()\n",
    "plt.savefig('./graph/compare.png')"
   ]
  },
  {
   "cell_type": "code",
   "execution_count": 75,
   "metadata": {},
   "outputs": [
    {
     "data": {
      "application/vnd.jupyter.widget-view+json": {
       "model_id": "50d5b3a0d26741d3ad0065dbd5327e67",
       "version_major": 2,
       "version_minor": 0
      },
      "text/plain": [
       "  0%|          | 0/7 [00:00<?, ?it/s]"
      ]
     },
     "metadata": {},
     "output_type": "display_data"
    },
    {
     "data": {
      "application/vnd.jupyter.widget-view+json": {
       "model_id": "fcab3c4a850b424586f862253e83e00f",
       "version_major": 2,
       "version_minor": 0
      },
      "text/plain": [
       "0it [00:00, ?it/s]"
      ]
     },
     "metadata": {},
     "output_type": "display_data"
    },
    {
     "data": {
      "application/vnd.jupyter.widget-view+json": {
       "model_id": "fe75cd2e8ac54fbdb8357844581fc743",
       "version_major": 2,
       "version_minor": 0
      },
      "text/plain": [
       "0it [00:00, ?it/s]"
      ]
     },
     "metadata": {},
     "output_type": "display_data"
    },
    {
     "data": {
      "application/vnd.jupyter.widget-view+json": {
       "model_id": "dd8de50f6a1c4e2a895394dafeb936d8",
       "version_major": 2,
       "version_minor": 0
      },
      "text/plain": [
       "0it [00:00, ?it/s]"
      ]
     },
     "metadata": {},
     "output_type": "display_data"
    },
    {
     "data": {
      "application/vnd.jupyter.widget-view+json": {
       "model_id": "8cdf9b2cc80d44f1b540db402baf9ca6",
       "version_major": 2,
       "version_minor": 0
      },
      "text/plain": [
       "0it [00:00, ?it/s]"
      ]
     },
     "metadata": {},
     "output_type": "display_data"
    },
    {
     "data": {
      "application/vnd.jupyter.widget-view+json": {
       "model_id": "f196a870fe444e9483d2e7f260d9d4df",
       "version_major": 2,
       "version_minor": 0
      },
      "text/plain": [
       "0it [00:00, ?it/s]"
      ]
     },
     "metadata": {},
     "output_type": "display_data"
    },
    {
     "data": {
      "application/vnd.jupyter.widget-view+json": {
       "model_id": "91591b4f338149cf99eafb76ad47d81b",
       "version_major": 2,
       "version_minor": 0
      },
      "text/plain": [
       "0it [00:00, ?it/s]"
      ]
     },
     "metadata": {},
     "output_type": "display_data"
    },
    {
     "data": {
      "application/vnd.jupyter.widget-view+json": {
       "model_id": "33d6bd0bbd1d4aa39718e50264db750d",
       "version_major": 2,
       "version_minor": 0
      },
      "text/plain": [
       "0it [00:00, ?it/s]"
      ]
     },
     "metadata": {},
     "output_type": "display_data"
    }
   ],
   "source": [
    "outputs = []\n",
    "for k in tqdm.tqdm([1,2,4,8,16,32,64]):\n",
    "    output = eval_siamese(X_test,y_test,k=k)\n",
    "    outputs.append(output)"
   ]
  },
  {
   "cell_type": "code",
   "execution_count": 76,
   "metadata": {},
   "outputs": [],
   "source": [
    "plots = pd.DataFrame(outputs)"
   ]
  },
  {
   "cell_type": "code",
   "execution_count": 77,
   "metadata": {},
   "outputs": [
    {
     "data": {
      "image/png": "[encoded data removed]",
      "text/plain": [
       "<Figure size 640x480 with 1 Axes>"
      ]
     },
     "metadata": {},
     "output_type": "display_data"
    }
   ],
   "source": [
    "plt.plot(plots['k'],plots['acc'])\n",
    "plt.title('Accuracy vs K')\n",
    "plt.xlabel('k value')\n",
    "plt.ylabel('Test Accuracy')\n",
    "plt.savefig('./graph/acc_vs_k.png')"
   ]
  },
  {
   "cell_type": "code",
   "execution_count": null,
   "metadata": {},
   "outputs": [],
   "source": []
  }
 ],
 "metadata": {
  "kernelspec": {
   "display_name": "ELL784-0C_wN4yj",
   "language": "python",
   "name": "python3"
  },
  "language_info": {
   "codemirror_mode": {
    "name": "ipython",
    "version": 3
   },
   "file_extension": ".py",
   "mimetype": "text/x-python",
   "name": "python",
   "nbconvert_exporter": "python",
   "pygments_lexer": "ipython3",
   "version": "3.12.4"
  }
 },
 "nbformat": 4,
 "nbformat_minor": 2
}
