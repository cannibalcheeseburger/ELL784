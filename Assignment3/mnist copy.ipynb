{
 "cells": [
  {
   "cell_type": "code",
   "execution_count": 1,
   "metadata": {},
   "outputs": [],
   "source": [
    "from sklearn.datasets import fetch_openml\n",
    "from sklearn.metrics import accuracy_score,classification_report\n",
    "import numpy as np\n",
    "import pandas as pd\n",
    "import matplotlib.pyplot as plt\n",
    "from sklearn.model_selection import train_test_split\n",
    "import tqdm.notebook as tqdm"
   ]
  },
  {
   "cell_type": "code",
   "execution_count": 2,
   "metadata": {},
   "outputs": [],
   "source": [
    "from NeuralNetwork.dense import Dense\n",
    "from NeuralNetwork.activations import Sigmoid,Softmax,ReLU\n",
    "from NeuralNetwork.losses import categorical_crossentropy, categorical_crossentropy_derive\n",
    "from NeuralNetwork.network import predict"
   ]
  },
  {
   "cell_type": "code",
   "execution_count": 3,
   "metadata": {},
   "outputs": [],
   "source": [
    "mnist = fetch_openml('mnist_784')"
   ]
  },
  {
   "cell_type": "code",
   "execution_count": 4,
   "metadata": {},
   "outputs": [],
   "source": [
    "X = mnist.data/255.0\n",
    "labels = np.array( mnist.target).astype(int)\n",
    "y = np.squeeze(np.eye(10)[labels])\n",
    "X_train,X_test,y_train,y_test = train_test_split(X,y,test_size=0.2,shuffle=True)\n",
    "X_val, y_val = X_train.iloc[:2000],y_train[:2000]"
   ]
  },
  {
   "cell_type": "code",
   "execution_count": 5,
   "metadata": {},
   "outputs": [],
   "source": [
    "def train(NN, loss, loss_derive, X_train, y_train,X_val,y_val,epoch=20, alpha=0.05, verbose = True):\n",
    "    X_train = np.reshape(X_train,X_train.shape +(1,))\n",
    "    y_train = np.reshape(y_train,y_train.shape +(1,))\n",
    "    X_val = np.reshape(X_val,X_val.shape +(1,))\n",
    "    y_val = np.reshape(y_val,y_val.shape +(1,))\n",
    "    error_TS = []\n",
    "    acc_TS = []\n",
    "    val_error_TS = []\n",
    "    val_acc_TS = []\n",
    "    for e in range(epoch):\n",
    "        errors= 0\n",
    "        acc =0\n",
    "        val_error = 0\n",
    "        val_acc = 0\n",
    "        for x, y in zip(X_train, y_train):\n",
    "            # forward\n",
    "            out = predict(NN, x)\n",
    "            if np.argmax(y)==np.argmax(out):\n",
    "                acc+=1\n",
    "            # error\n",
    "\n",
    "            errors+= loss(y, out)\n",
    "\n",
    "            # backward\n",
    "            gradient = loss_derive(y, out)\n",
    "            for layer in reversed(NN):\n",
    "                gradient = layer.backward(gradient, alpha)\n",
    "\n",
    "        for x, y in zip(X_val, y_val):\n",
    "            output = predict(NN, x)\n",
    "            if np.argmax(y)==np.argmax(output):\n",
    "                val_acc+=1\n",
    "            val_error += loss(y, output)\n",
    "        \n",
    "        errors/= len(X_train)\n",
    "        acc /=len(X_train)\n",
    "        val_error /= len(X_val)\n",
    "        val_acc /=len(X_val)\n",
    "\n",
    "        if verbose:\n",
    "            print(f\"{e + 1}/{epoch}, error={round(errors,4)}, accuracy={round(acc,4)}, val_error={round(val_error,4)}, val_accuracy={round(val_acc,4)}\")\n",
    "        error_TS.append(errors)\n",
    "        acc_TS.append(acc)\n",
    "        val_error_TS.append(val_error)\n",
    "        val_acc_TS.append(val_acc)\n",
    "    return [error_TS,acc_TS,val_error_TS,val_acc_TS]"
   ]
  },
  {
   "cell_type": "code",
   "execution_count": 6,
   "metadata": {},
   "outputs": [],
   "source": [
    "def graph_train(train_error,train_acc,val_error,val_acc,index=False):\n",
    "    add_index = \"\"\n",
    "    if index:\n",
    "        add_index+=index\n",
    "    plt.plot(train_error)\n",
    "    plt.plot(val_error)\n",
    "    plt.xlabel(\"Epochs\")\n",
    "    plt.ylabel(\"Error\")        \n",
    "    plt.legend(['train error','validation error'])\n",
    "    plt.savefig(\"./graph/Error{}.png\".format(add_index))\n",
    "    plt.clf()\n",
    "    plt.plot(train_acc)\n",
    "    plt.plot(val_acc)\n",
    "    plt.xlabel(\"Epochs\")\n",
    "    plt.ylabel(\"Accuracy\")\n",
    "    plt.legend(['train accuracy','validation accuracy'])\n",
    "\n",
    "    plt.savefig(\"./graph/Accuracy{}.png\".format(add_index))"
   ]
  },
  {
   "cell_type": "code",
   "execution_count": 7,
   "metadata": {},
   "outputs": [],
   "source": [
    "NN = [Dense(784,40),\n",
    "      Sigmoid(),\n",
    "      Dense(40,10),\n",
    "      Softmax()]"
   ]
  },
  {
   "cell_type": "code",
   "execution_count": 8,
   "metadata": {},
   "outputs": [
    {
     "name": "stdout",
     "output_type": "stream",
     "text": [
      "1/20, error=0.0451, accuracy=0.8645, val_error=0.0247, val_accuracy=0.9275\n",
      "2/20, error=0.0252, accuracy=0.9258, val_error=0.0191, val_accuracy=0.947\n",
      "3/20, error=0.02, accuracy=0.94, val_error=0.0156, val_accuracy=0.9545\n",
      "4/20, error=0.0169, accuracy=0.9496, val_error=0.0136, val_accuracy=0.961\n",
      "5/20, error=0.0149, accuracy=0.9558, val_error=0.0118, val_accuracy=0.9675\n",
      "6/20, error=0.0133, accuracy=0.9599, val_error=0.0103, val_accuracy=0.97\n",
      "7/20, error=0.0121, accuracy=0.9643, val_error=0.0091, val_accuracy=0.9705\n",
      "8/20, error=0.011, accuracy=0.9664, val_error=0.0085, val_accuracy=0.975\n",
      "9/20, error=0.0101, accuracy=0.9699, val_error=0.0085, val_accuracy=0.9765\n",
      "10/20, error=0.0093, accuracy=0.9719, val_error=0.0078, val_accuracy=0.979\n",
      "11/20, error=0.0086, accuracy=0.9741, val_error=0.0077, val_accuracy=0.98\n",
      "12/20, error=0.0081, accuracy=0.9761, val_error=0.0069, val_accuracy=0.9795\n",
      "13/20, error=0.0077, accuracy=0.9762, val_error=0.0068, val_accuracy=0.978\n",
      "14/20, error=0.0073, accuracy=0.9783, val_error=0.0063, val_accuracy=0.9835\n",
      "15/20, error=0.0068, accuracy=0.9799, val_error=0.0061, val_accuracy=0.9815\n",
      "16/20, error=0.0066, accuracy=0.98, val_error=0.0062, val_accuracy=0.982\n",
      "17/20, error=0.0062, accuracy=0.9821, val_error=0.0056, val_accuracy=0.987\n",
      "18/20, error=0.006, accuracy=0.9824, val_error=0.0063, val_accuracy=0.979\n",
      "19/20, error=0.0057, accuracy=0.9835, val_error=0.0058, val_accuracy=0.983\n",
      "20/20, error=0.0054, accuracy=0.984, val_error=0.0061, val_accuracy=0.9835\n"
     ]
    }
   ],
   "source": [
    "train_error,train_acc,val_error,val_acc = train(NN,categorical_crossentropy,categorical_crossentropy_derive,X_train,y_train,X_val,y_val,alpha=0.06,epoch=20)"
   ]
  },
  {
   "cell_type": "code",
   "execution_count": 9,
   "metadata": {},
   "outputs": [
    {
     "data": {
      "image/png": "[encoded data removed]",
      "text/plain": [
       "<Figure size 640x480 with 1 Axes>"
      ]
     },
     "metadata": {},
     "output_type": "display_data"
    }
   ],
   "source": [
    "graph_train(train_error,train_acc,val_error,val_acc,index=\"FINAL\")"
   ]
  },
  {
   "cell_type": "code",
   "execution_count": 10,
   "metadata": {},
   "outputs": [],
   "source": [
    "#make pairs\n",
    "k=100"
   ]
  },
  {
   "cell_type": "code",
   "execution_count": 78,
   "metadata": {},
   "outputs": [],
   "source": [
    "from sklearn.utils import shuffle\n",
    "def get_top(X,labels,k=100):\n",
    "    #dataset = np.column_stack((X,labels))\n",
    "    X_sample, labels_sample = shuffle(X, labels, )\n",
    "\n",
    "    topk = []\n",
    "    for _class in range(10):\n",
    "        class_index = np.where(labels_sample==_class)[0][:k]\n",
    "        topk.append(np.column_stack((X_sample.iloc[class_index],labels_sample[class_index])))\n",
    "    topk = np.vstack(topk)\n",
    "    return topk"
   ]
  },
  {
   "cell_type": "code",
   "execution_count": 79,
   "metadata": {},
   "outputs": [],
   "source": [
    "top100 = get_top(X,labels)\n",
    "np.random.shuffle(top100)"
   ]
  },
  {
   "cell_type": "code",
   "execution_count": 80,
   "metadata": {},
   "outputs": [],
   "source": [
    "pairs = []\n",
    "pair_labels = []\n",
    "for row1 in top100:\n",
    "    for row2 in top100:\n",
    "        pairs.append(np.hstack((row2[:-1],row1[:-1])))\n",
    "        if row1[-1]==row2[-1]:\n",
    "            pair_labels.append(1)\n",
    "        else:\n",
    "            pair_labels.append(0)\n",
    "\n",
    "pairs = np.vstack(pairs)\n",
    "pair_labels = np.array(pair_labels)"
   ]
  },
  {
   "cell_type": "code",
   "execution_count": 81,
   "metadata": {},
   "outputs": [],
   "source": [
    "X_train,X_val,y_train,y_val = train_test_split(pairs,pair_labels,test_size=0.2,shuffle=True)"
   ]
  },
  {
   "cell_type": "code",
   "execution_count": 99,
   "metadata": {},
   "outputs": [],
   "source": [
    "def predict_siamese(NN,X,threshold=0.5):\n",
    "    X_sample = X.reshape(len(X), 2, 784)\n",
    "    predictions = []\n",
    "    first_images = []\n",
    "    second_images = []\n",
    "    \n",
    "    for sample in X_sample:\n",
    "        first_images.append(predict(NN,sample[0].reshape(784,1)))\n",
    "        second_images.append(predict(NN,sample[1].reshape(784,1)))\n",
    "\n",
    "    for first,second in zip(first_images,second_images):\n",
    "        euclidean_dist =np.sqrt(np.sum(np.square(first - second)))\n",
    "        if euclidean_dist<threshold:\n",
    "            predictions.append(1)\n",
    "        else:\n",
    "            predictions.append(0)\n",
    "    return np.array(predictions)"
   ]
  },
  {
   "cell_type": "code",
   "execution_count": 102,
   "metadata": {},
   "outputs": [],
   "source": [
    "predictions = predict_siamese(NN,X_train)"
   ]
  },
  {
   "cell_type": "code",
   "execution_count": 125,
   "metadata": {},
   "outputs": [],
   "source": [
    "def eval(predictions,true_val):\n",
    "    acc = 0\n",
    "    for pred,true in zip(predictions,true_val):\n",
    "        if pred==true:\n",
    "            acc+=1\n",
    "    return acc/len(true_val)"
   ]
  },
  {
   "cell_type": "code",
   "execution_count": 90,
   "metadata": {},
   "outputs": [],
   "source": [
    "topk = get_top(X,labels,k=10)\n",
    "np.random.shuffle(topk)"
   ]
  },
  {
   "cell_type": "code",
   "execution_count": 158,
   "metadata": {},
   "outputs": [],
   "source": [
    "def eval_siamese(X_sample,label_sample,k=5):\n",
    "    topk = get_top(X,labels,k)\n",
    "    np.random.shuffle(topk)\n",
    "    predictions = []\n",
    "    for sample,label in zip(X_sample.to_numpy(),label_sample):\n",
    "        pairs = []\n",
    "        pair_labels = []\n",
    "        for row in topk:\n",
    "            pairs.append(np.hstack((sample[:],row[:-1])))\n",
    "            pair_labels.append(row[-1])\n",
    "        pairs = np.vstack(pairs)\n",
    "        pair_labels = np.array(pair_labels).astype(int)\n",
    "        sample_predictions = predict_siamese(NN,pairs)\n",
    "        predict = np.bincount(pair_labels[sample_predictions==1])\n",
    "        if predict.size:\n",
    "            predictions.append(predict.argmax())\n",
    "        else:\n",
    "            predictions.append(10)\n",
    "    acc = eval(np.array(predictions),label_sample.argmax(axis=1))\n",
    "    return {'k':k,'acc':acc}"
   ]
  },
  {
   "cell_type": "code",
   "execution_count": 163,
   "metadata": {},
   "outputs": [
    {
     "data": {
      "application/vnd.jupyter.widget-view+json": {
       "model_id": "ce1576a0f5ae4b2fb51fdc31c31e5a29",
       "version_major": 2,
       "version_minor": 0
      },
      "text/plain": [
       "  0%|          | 0/4 [00:00<?, ?it/s]"
      ]
     },
     "metadata": {},
     "output_type": "display_data"
    }
   ],
   "source": [
    "outputs = []\n",
    "for k in tqdm.tqdm([5,10,15,20]):\n",
    "    output = eval_siamese(X_test,y_test,k=k)\n",
    "    outputs.append(output)"
   ]
  },
  {
   "cell_type": "code",
   "execution_count": 175,
   "metadata": {},
   "outputs": [
    {
     "data": {
      "text/plain": [
       "[{'k': 150, 'acc': 0.9486428571428571},\n",
       " {'k': 200, 'acc': 0.9485},\n",
       " {'k': 300, 'acc': 0.9490714285714286},\n",
       " {'k': 500, 'acc': 0.9490714285714286}]"
      ]
     },
     "execution_count": 175,
     "metadata": {},
     "output_type": "execute_result"
    }
   ],
   "source": [
    "outputs"
   ]
  },
  {
   "cell_type": "code",
   "execution_count": 176,
   "metadata": {},
   "outputs": [],
   "source": [
    "outputs = [{'k': 5, 'acc': 0.9397142857142857},\n",
    " {'k': 10, 'acc': 0.9443571428571429},\n",
    " {'k': 15, 'acc': 0.9419285714285714},\n",
    " {'k': 20, 'acc': 0.9445714285714286},\n",
    " {'k': 25, 'acc': 0.9442142857142857},\n",
    " {'k': 35, 'acc': 0.9441428571428572},\n",
    " {'k': 50, 'acc': 0.9454285714285714},\n",
    " {'k': 100, 'acc': 0.9470714285714286},\n",
    " {'k': 150, 'acc': 0.9486428571428571},\n",
    " {'k': 200, 'acc': 0.9485},\n",
    " {'k': 300, 'acc': 0.9490714285714286},\n",
    " {'k': 500, 'acc': 0.9490714285714286}]"
   ]
  },
  {
   "cell_type": "code",
   "execution_count": 177,
   "metadata": {},
   "outputs": [],
   "source": [
    "plots = pd.DataFrame(outputs)"
   ]
  },
  {
   "cell_type": "code",
   "execution_count": 178,
   "metadata": {},
   "outputs": [
    {
     "data": {
      "image/png": "[encoded data removed]",
      "text/plain": [
       "<Figure size 640x480 with 1 Axes>"
      ]
     },
     "metadata": {},
     "output_type": "display_data"
    }
   ],
   "source": [
    "plt.plot(plots['k'],plots['acc'])\n",
    "plt.title('Accuracy vs K')\n",
    "plt.xlabel('k value')\n",
    "plt.ylabel('Test Accuracy')\n",
    "plt.savefig('./graph/acc_vs_k.png')"
   ]
  },
  {
   "cell_type": "code",
   "execution_count": null,
   "metadata": {},
   "outputs": [],
   "source": []
  }
 ],
 "metadata": {
  "kernelspec": {
   "display_name": "ELL784-0C_wN4yj",
   "language": "python",
   "name": "python3"
  },
  "language_info": {
   "codemirror_mode": {
    "name": "ipython",
    "version": 3
   },
   "file_extension": ".py",
   "mimetype": "text/x-python",
   "name": "python",
   "nbconvert_exporter": "python",
   "pygments_lexer": "ipython3",
   "version": "3.12.4"
  }
 },
 "nbformat": 4,
 "nbformat_minor": 2
}
