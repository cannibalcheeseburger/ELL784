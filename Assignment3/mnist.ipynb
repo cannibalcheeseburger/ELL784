{
 "cells": [
  {
   "cell_type": "code",
   "execution_count": 1,
   "metadata": {},
   "outputs": [],
   "source": [
    "from sklearn.datasets import fetch_openml\n",
    "from sklearn.metrics import accuracy_score,classification_report\n",
    "import numpy as np\n",
    "import pandas as pd\n",
    "import matplotlib.pyplot as plt\n",
    "from sklearn.model_selection import train_test_split\n",
    "import tqdm.notebook as tqdm"
   ]
  },
  {
   "cell_type": "code",
   "execution_count": 2,
   "metadata": {},
   "outputs": [],
   "source": [
    "from NeuralNetwork.dense import Dense\n",
    "from NeuralNetwork.activations import Sigmoid,Softmax,ReLU\n",
    "from NeuralNetwork.losses import categorical_crossentropy, categorical_crossentropy_derive,mse,mse_derive,binary_crossentropy,binary_crossentropy_derive\n",
    "from NeuralNetwork.network import predict"
   ]
  },
  {
   "cell_type": "code",
   "execution_count": 3,
   "metadata": {},
   "outputs": [],
   "source": [
    "mnist = fetch_openml('mnist_784')"
   ]
  },
  {
   "cell_type": "code",
   "execution_count": 4,
   "metadata": {},
   "outputs": [],
   "source": [
    "X = mnist.data/255.0\n",
    "labels = np.array( mnist.target).astype(int)\n",
    "y = np.squeeze(np.eye(10)[labels])\n",
    "X_train,X_test,y_train,y_test = train_test_split(X,y,test_size=0.2,shuffle=True)\n",
    "X_val, y_val = X_train.iloc[:2000],y_train[:2000]"
   ]
  },
  {
   "cell_type": "code",
   "execution_count": 5,
   "metadata": {},
   "outputs": [],
   "source": [
    "def train(NN, loss, loss_derive, X_train, y_train,X_val,y_val,epoch=20, alpha=0.05, verbose = True):\n",
    "    X_train = np.reshape(X_train,X_train.shape +(1,))\n",
    "    y_train = np.reshape(y_train,y_train.shape +(1,))\n",
    "    X_val = np.reshape(X_val,X_val.shape +(1,))\n",
    "    y_val = np.reshape(y_val,y_val.shape +(1,))\n",
    "    error_TS = []\n",
    "    acc_TS = []\n",
    "    val_error_TS = []\n",
    "    val_acc_TS = []\n",
    "    for e in range(epoch):\n",
    "        errors= 0\n",
    "        acc =0\n",
    "        val_error = 0\n",
    "        val_acc = 0\n",
    "        for x, y in zip(X_train, y_train):\n",
    "            # forward\n",
    "            out = predict(NN, x)\n",
    "            if np.argmax(y)==np.argmax(out):\n",
    "                acc+=1\n",
    "            # error\n",
    "\n",
    "            errors+= loss(y, out)\n",
    "\n",
    "            # backward\n",
    "            gradient = loss_derive(y, out)\n",
    "            for layer in reversed(NN):\n",
    "                gradient = layer.backward(gradient, alpha)\n",
    "\n",
    "        for x, y in zip(X_val, y_val):\n",
    "            output = predict(NN, x)\n",
    "            if np.argmax(y)==np.argmax(output):\n",
    "                val_acc+=1\n",
    "            val_error += loss(y, output)\n",
    "        \n",
    "        errors/= len(X_train)\n",
    "        acc /=len(X_train)\n",
    "        val_error /= len(X_val)\n",
    "        val_acc /=len(X_val)\n",
    "\n",
    "        if verbose:\n",
    "            print(f\"{e + 1}/{epoch}, error={round(errors,4)}, accuracy={round(acc,4)}, val_error={round(val_error,4)}, val_accuracy={round(val_acc,4)}\")\n",
    "        error_TS.append(errors)\n",
    "        acc_TS.append(acc)\n",
    "        val_error_TS.append(val_error)\n",
    "        val_acc_TS.append(val_acc)\n",
    "    return [error_TS,acc_TS,val_error_TS,val_acc_TS]"
   ]
  },
  {
   "cell_type": "code",
   "execution_count": 6,
   "metadata": {},
   "outputs": [],
   "source": [
    "def graph_train(train_error,train_acc,val_error,val_acc,index=False):\n",
    "    add_index = \"\"\n",
    "    if index:\n",
    "        add_index+=index\n",
    "    plt.plot(train_error)\n",
    "    plt.plot(val_error)\n",
    "    plt.xlabel(\"Epochs\")\n",
    "    plt.ylabel(\"Error\")        \n",
    "    plt.legend(['train error','validation error'])\n",
    "    plt.savefig(\"./graph/Error{}.png\".format(add_index))\n",
    "    plt.clf()\n",
    "    plt.plot(train_acc)\n",
    "    plt.plot(val_acc)\n",
    "    plt.xlabel(\"Epochs\")\n",
    "    plt.ylabel(\"Accuracy\")\n",
    "    plt.legend(['train accuracy','validation accuracy'])\n",
    "\n",
    "    plt.savefig(\"./graph/Accuracy{}.png\".format(add_index))"
   ]
  },
  {
   "cell_type": "code",
   "execution_count": 7,
   "metadata": {},
   "outputs": [],
   "source": [
    "NN = [Dense(784,40),\n",
    "      Sigmoid(),\n",
    "      Dense(40,10),\n",
    "      Softmax()]"
   ]
  },
  {
   "cell_type": "code",
   "execution_count": 8,
   "metadata": {},
   "outputs": [
    {
     "name": "stdout",
     "output_type": "stream",
     "text": [
      "1/20, error=0.0451, accuracy=0.8645, val_error=0.0247, val_accuracy=0.9275\n",
      "2/20, error=0.0252, accuracy=0.9258, val_error=0.0191, val_accuracy=0.947\n",
      "3/20, error=0.02, accuracy=0.94, val_error=0.0156, val_accuracy=0.9545\n",
      "4/20, error=0.0169, accuracy=0.9496, val_error=0.0136, val_accuracy=0.961\n",
      "5/20, error=0.0149, accuracy=0.9558, val_error=0.0118, val_accuracy=0.9675\n",
      "6/20, error=0.0133, accuracy=0.9599, val_error=0.0103, val_accuracy=0.97\n",
      "7/20, error=0.0121, accuracy=0.9643, val_error=0.0091, val_accuracy=0.9705\n",
      "8/20, error=0.011, accuracy=0.9664, val_error=0.0085, val_accuracy=0.975\n",
      "9/20, error=0.0101, accuracy=0.9699, val_error=0.0085, val_accuracy=0.9765\n",
      "10/20, error=0.0093, accuracy=0.9719, val_error=0.0078, val_accuracy=0.979\n",
      "11/20, error=0.0086, accuracy=0.9741, val_error=0.0077, val_accuracy=0.98\n",
      "12/20, error=0.0081, accuracy=0.9761, val_error=0.0069, val_accuracy=0.9795\n",
      "13/20, error=0.0077, accuracy=0.9762, val_error=0.0068, val_accuracy=0.978\n",
      "14/20, error=0.0073, accuracy=0.9783, val_error=0.0063, val_accuracy=0.9835\n",
      "15/20, error=0.0068, accuracy=0.9799, val_error=0.0061, val_accuracy=0.9815\n",
      "16/20, error=0.0066, accuracy=0.98, val_error=0.0062, val_accuracy=0.982\n",
      "17/20, error=0.0062, accuracy=0.9821, val_error=0.0056, val_accuracy=0.987\n",
      "18/20, error=0.006, accuracy=0.9824, val_error=0.0063, val_accuracy=0.979\n",
      "19/20, error=0.0057, accuracy=0.9835, val_error=0.0058, val_accuracy=0.983\n",
      "20/20, error=0.0054, accuracy=0.984, val_error=0.0061, val_accuracy=0.9835\n"
     ]
    }
   ],
   "source": [
    "train_error,train_acc,val_error,val_acc = train(NN,categorical_crossentropy,categorical_crossentropy_derive,X_train,y_train,X_val,y_val,alpha=0.06,epoch=20)"
   ]
  },
  {
   "cell_type": "code",
   "execution_count": 9,
   "metadata": {},
   "outputs": [
    {
     "data": {
      "image/png": "[encoded data removed]",
      "text/plain": [
       "<Figure size 640x480 with 1 Axes>"
      ]
     },
     "metadata": {},
     "output_type": "display_data"
    }
   ],
   "source": [
    "graph_train(train_error,train_acc,val_error,val_acc,index=\"FINAL\")"
   ]
  },
  {
   "cell_type": "code",
   "execution_count": 10,
   "metadata": {},
   "outputs": [],
   "source": [
    "#make pairs\n",
    "k=100"
   ]
  },
  {
   "cell_type": "code",
   "execution_count": 11,
   "metadata": {},
   "outputs": [],
   "source": [
    "def get_top(X,labels,k=100):\n",
    "    np.column_stack((X,labels))\n",
    "    topk = []\n",
    "    for _class in range(10):\n",
    "        class_index = np.where(labels==_class)[0][:k]\n",
    "        topk.append(np.column_stack((X.iloc[class_index],labels[class_index])))\n",
    "    topk = np.vstack(topk)\n",
    "    return topk"
   ]
  },
  {
   "cell_type": "code",
   "execution_count": 12,
   "metadata": {},
   "outputs": [],
   "source": [
    "top100 = get_top(X,labels)"
   ]
  },
  {
   "cell_type": "code",
   "execution_count": 13,
   "metadata": {},
   "outputs": [],
   "source": [
    "np.random.shuffle(top100)"
   ]
  },
  {
   "cell_type": "markdown",
   "metadata": {},
   "source": [
    "# YEP\n",
    "X_train,y_train = top100[:,:-1],top100[:,-1]\n",
    "X_val, y_val = X_train[:2000],y_train[:2000]"
   ]
  },
  {
   "cell_type": "code",
   "execution_count": 14,
   "metadata": {},
   "outputs": [],
   "source": [
    "pairs = []\n",
    "pair_labels = []\n",
    "for row1 in top100:\n",
    "    for row2 in top100:\n",
    "        pairs.append(np.hstack((row2[:-1],row1[:-1])))\n",
    "        if row1[-1]==row2[-1]:\n",
    "            pair_labels.append(1)\n",
    "        else:\n",
    "            pair_labels.append(0)"
   ]
  },
  {
   "cell_type": "code",
   "execution_count": 15,
   "metadata": {},
   "outputs": [],
   "source": [
    "pairs = np.vstack(pairs)"
   ]
  },
  {
   "cell_type": "code",
   "execution_count": 16,
   "metadata": {},
   "outputs": [],
   "source": [
    "pair_labels = np.array(pair_labels)"
   ]
  },
  {
   "cell_type": "code",
   "execution_count": 17,
   "metadata": {},
   "outputs": [],
   "source": [
    "def encode(x):\n",
    "    if x>0.5:\n",
    "        return 1\n",
    "    return 0"
   ]
  },
  {
   "cell_type": "code",
   "execution_count": 18,
   "metadata": {},
   "outputs": [],
   "source": [
    "def train(NN, loss, loss_derive, X_train, y_train,X_val,y_val,epoch=20, alpha=0.05, verbose = True):\n",
    "    X_train = np.reshape(X_train,X_train.shape +(1,))\n",
    "    y_train = np.reshape(y_train,y_train.shape +(1,))\n",
    "    X_val = np.reshape(X_val,X_val.shape +(1,))\n",
    "    y_val = np.reshape(y_val,y_val.shape +(1,))\n",
    "    error_TS = []\n",
    "    acc_TS = []\n",
    "    val_error_TS = []\n",
    "    val_acc_TS = []\n",
    "    for e in range(epoch):\n",
    "        errors= 0\n",
    "        acc =0\n",
    "        val_error = 0\n",
    "        val_acc = 0\n",
    "        for x, y in zip(X_train, y_train):\n",
    "            # forward\n",
    "            out = predict(NN, x)\n",
    "            if y==encode(out):\n",
    "                acc+=1\n",
    "            # error\n",
    "\n",
    "            errors+= loss(y, out)\n",
    "\n",
    "            # backward\n",
    "            gradient = loss_derive(y, out)\n",
    "            for layer in reversed(NN):\n",
    "                gradient = layer.backward(gradient, alpha)\n",
    "\n",
    "        for x, y in zip(X_val, y_val):\n",
    "            output = predict(NN, x)\n",
    "            if y==encode(output):\n",
    "                val_acc+=1\n",
    "            val_error += loss(y, output)\n",
    "        \n",
    "        errors/= len(X_train)\n",
    "        acc /=len(X_train)\n",
    "        val_error /= len(X_val)\n",
    "        val_acc /=len(X_val)\n",
    "\n",
    "        if verbose:\n",
    "            print(f\"{e + 1}/{epoch}, error={round(errors,4)}, accuracy={round(acc,4)}, val_error={round(val_error,4)}, val_accuracy={round(val_acc,4)}\")\n",
    "        error_TS.append(errors)\n",
    "        acc_TS.append(acc)\n",
    "        val_error_TS.append(val_error)\n",
    "        val_acc_TS.append(val_acc)\n",
    "    return [error_TS,acc_TS,val_error_TS,val_acc_TS]"
   ]
  },
  {
   "cell_type": "code",
   "execution_count": 19,
   "metadata": {},
   "outputs": [],
   "source": [
    "X_train,X_val,y_train,y_val = train_test_split(pairs,pair_labels,test_size=0.2,shuffle=True)"
   ]
  },
  {
   "cell_type": "code",
   "execution_count": 65,
   "metadata": {},
   "outputs": [
    {
     "data": {
      "text/plain": [
       "array([0, 0, 0, ..., 0, 0, 1])"
      ]
     },
     "execution_count": 65,
     "metadata": {},
     "output_type": "execute_result"
    }
   ],
   "source": [
    "y_train"
   ]
  },
  {
   "cell_type": "code",
   "execution_count": 21,
   "metadata": {},
   "outputs": [],
   "source": [
    "#get back\n",
    "image_pairs = X_train.reshape(800000, 2, 784)\n"
   ]
  },
  {
   "cell_type": "code",
   "execution_count": 59,
   "metadata": {},
   "outputs": [],
   "source": [
    "X_sample = X_train.reshape(len(X_train), 2, 784)\n"
   ]
  },
  {
   "cell_type": "code",
   "execution_count": 60,
   "metadata": {},
   "outputs": [
    {
     "data": {
      "text/plain": [
       "(800000, 2, 784)"
      ]
     },
     "execution_count": 60,
     "metadata": {},
     "output_type": "execute_result"
    }
   ],
   "source": [
    "X_sample.shape"
   ]
  },
  {
   "cell_type": "code",
   "execution_count": 58,
   "metadata": {},
   "outputs": [],
   "source": [
    "def predict_siamese(NN,X_sample,threshold=0.5):\n",
    "    predictions = []\n",
    "    first_images = []\n",
    "    second_images = []\n",
    "    \n",
    "    for sample in X_sample:\n",
    "        first_images.append(predict(NN,sample[0].reshape(784,1)))\n",
    "        second_images.append(predict(NN,sample[1].reshape(784,1)))\n",
    "\n",
    "    for first,second in zip(first_images,second_images):\n",
    "        euclidean_dist =np.sqrt(np.sum(np.square(first - second)))\n",
    "        if euclidean_dist<threshold:\n",
    "            predictions.append(1)\n",
    "        else:\n",
    "            predictions.append(0)\n",
    "    return np.array(predictions)"
   ]
  },
  {
   "cell_type": "code",
   "execution_count": 61,
   "metadata": {},
   "outputs": [],
   "source": [
    "predictions = predict_siamese(NN,X_sample)"
   ]
  },
  {
   "cell_type": "code",
   "execution_count": 70,
   "metadata": {},
   "outputs": [
    {
     "data": {
      "text/plain": [
       "array([0, 0, 0, ..., 0, 0, 1])"
      ]
     },
     "execution_count": 70,
     "metadata": {},
     "output_type": "execute_result"
    }
   ],
   "source": [
    "y_train"
   ]
  },
  {
   "cell_type": "code",
   "execution_count": 71,
   "metadata": {},
   "outputs": [
    {
     "data": {
      "text/plain": [
       "array([0, 0, 0, ..., 0, 0, 1])"
      ]
     },
     "execution_count": 71,
     "metadata": {},
     "output_type": "execute_result"
    }
   ],
   "source": [
    "predictions"
   ]
  },
  {
   "cell_type": "code",
   "execution_count": 72,
   "metadata": {},
   "outputs": [
    {
     "name": "stdout",
     "output_type": "stream",
     "text": [
      "0.98695\n"
     ]
    }
   ],
   "source": [
    "acc = 0\n",
    "for pred,true in zip(predictions,y_train):\n",
    "    if pred==true:\n",
    "        acc+=1\n",
    "print(acc/len(y_train))"
   ]
  },
  {
   "cell_type": "code",
   "execution_count": 48,
   "metadata": {},
   "outputs": [
    {
     "data": {
      "text/plain": [
       "<matplotlib.image.AxesImage at 0x1485f6bd0>"
      ]
     },
     "execution_count": 48,
     "metadata": {},
     "output_type": "execute_result"
    },
    {
     "data": {
      "image/png": "[encoded data removed]",
      "text/plain": [
       "<Figure size 640x480 with 1 Axes>"
      ]
     },
     "metadata": {},
     "output_type": "display_data"
    }
   ],
   "source": [
    "plt.imshow(X_sample[0][1].reshape(28,28))"
   ]
  },
  {
   "cell_type": "code",
   "execution_count": 35,
   "metadata": {},
   "outputs": [
    {
     "data": {
      "text/plain": [
       "<matplotlib.image.AxesImage at 0x14604f710>"
      ]
     },
     "execution_count": 35,
     "metadata": {},
     "output_type": "execute_result"
    },
    {
     "data": {
      "image/png": "[encoded data removed]",
      "text/plain": [
       "<Figure size 640x480 with 1 Axes>"
      ]
     },
     "metadata": {},
     "output_type": "display_data"
    }
   ],
   "source": [
    "plt.imshow(X_sample[0][1].reshape(28,28))"
   ]
  },
  {
   "cell_type": "code",
   "execution_count": 41,
   "metadata": {},
   "outputs": [
    {
     "data": {
      "text/plain": [
       "<matplotlib.image.AxesImage at 0x1486e13d0>"
      ]
     },
     "execution_count": 41,
     "metadata": {},
     "output_type": "execute_result"
    },
    {
     "data": {
      "image/png": "[encoded data removed]",
      "text/plain": [
       "<Figure size 640x480 with 1 Axes>"
      ]
     },
     "metadata": {},
     "output_type": "display_data"
    }
   ],
   "source": [
    "plt.imshow(image_pairs[1][0].reshape(28,28))"
   ]
  },
  {
   "cell_type": "code",
   "execution_count": 28,
   "metadata": {},
   "outputs": [],
   "source": [
    "NN = [Dense(1568,40),\n",
    "      ReLU(),\n",
    "      Dense(40,1),\n",
    "      Sigmoid()]"
   ]
  },
  {
   "cell_type": "code",
   "execution_count": 29,
   "metadata": {},
   "outputs": [
    {
     "name": "stdout",
     "output_type": "stream",
     "text": [
      "1/30, error=0.1013, accuracy=0.8986, val_error=0.0972, val_accuracy=0.9028\n",
      "2/30, error=0.0994, accuracy=0.9005, val_error=0.0972, val_accuracy=0.9028\n",
      "3/30, error=0.0994, accuracy=0.9006, val_error=0.0972, val_accuracy=0.9028\n",
      "4/30, error=0.0994, accuracy=0.9006, val_error=0.0972, val_accuracy=0.9028\n",
      "5/30, error=0.0994, accuracy=0.9006, val_error=0.0972, val_accuracy=0.9028\n",
      "6/30, error=0.0994, accuracy=0.9006, val_error=0.0972, val_accuracy=0.9028\n",
      "7/30, error=0.0994, accuracy=0.9006, val_error=0.0972, val_accuracy=0.9028\n",
      "8/30, error=0.0994, accuracy=0.9006, val_error=0.0972, val_accuracy=0.9028\n",
      "9/30, error=0.0994, accuracy=0.9006, val_error=0.0972, val_accuracy=0.9028\n",
      "10/30, error=0.0994, accuracy=0.9006, val_error=0.0972, val_accuracy=0.9028\n",
      "11/30, error=0.0994, accuracy=0.9006, val_error=0.0972, val_accuracy=0.9028\n",
      "12/30, error=0.0994, accuracy=0.9006, val_error=0.0972, val_accuracy=0.9028\n"
     ]
    },
    {
     "ename": "KeyboardInterrupt",
     "evalue": "",
     "output_type": "error",
     "traceback": [
      "\u001b[0;31m---------------------------------------------------------------------------\u001b[0m",
      "\u001b[0;31mKeyboardInterrupt\u001b[0m                         Traceback (most recent call last)",
      "Cell \u001b[0;32mIn[29], line 1\u001b[0m\n\u001b[0;32m----> 1\u001b[0m train_error,train_acc,val_error,val_acc \u001b[38;5;241m=\u001b[39m \u001b[43mtrain\u001b[49m\u001b[43m(\u001b[49m\u001b[43mNN\u001b[49m\u001b[43m,\u001b[49m\u001b[43mmse\u001b[49m\u001b[43m,\u001b[49m\u001b[43mmse_derive\u001b[49m\u001b[43m,\u001b[49m\u001b[43mX_train\u001b[49m\u001b[43m[\u001b[49m\u001b[43m:\u001b[49m\u001b[43mmax_val\u001b[49m\u001b[43m]\u001b[49m\u001b[43m,\u001b[49m\u001b[43my_train\u001b[49m\u001b[43m[\u001b[49m\u001b[43m:\u001b[49m\u001b[43mmax_val\u001b[49m\u001b[43m]\u001b[49m\u001b[43m,\u001b[49m\u001b[43mX_val\u001b[49m\u001b[43m[\u001b[49m\u001b[43m:\u001b[49m\u001b[38;5;241;43m5000\u001b[39;49m\u001b[43m]\u001b[49m\u001b[43m,\u001b[49m\u001b[43my_val\u001b[49m\u001b[43m[\u001b[49m\u001b[43m:\u001b[49m\u001b[38;5;241;43m5000\u001b[39;49m\u001b[43m]\u001b[49m\u001b[43m,\u001b[49m\u001b[43malpha\u001b[49m\u001b[38;5;241;43m=\u001b[39;49m\u001b[38;5;241;43m0.005\u001b[39;49m\u001b[43m,\u001b[49m\u001b[43mepoch\u001b[49m\u001b[38;5;241;43m=\u001b[39;49m\u001b[38;5;241;43m30\u001b[39;49m\u001b[43m)\u001b[49m\n",
      "Cell \u001b[0;32mIn[20], line 27\u001b[0m, in \u001b[0;36mtrain\u001b[0;34m(NN, loss, loss_derive, X_train, y_train, X_val, y_val, epoch, alpha, verbose)\u001b[0m\n\u001b[1;32m     25\u001b[0m     gradient \u001b[38;5;241m=\u001b[39m loss_derive(y, out)\n\u001b[1;32m     26\u001b[0m     \u001b[38;5;28;01mfor\u001b[39;00m layer \u001b[38;5;129;01min\u001b[39;00m \u001b[38;5;28mreversed\u001b[39m(NN):\n\u001b[0;32m---> 27\u001b[0m         gradient \u001b[38;5;241m=\u001b[39m \u001b[43mlayer\u001b[49m\u001b[38;5;241;43m.\u001b[39;49m\u001b[43mbackward\u001b[49m\u001b[43m(\u001b[49m\u001b[43mgradient\u001b[49m\u001b[43m,\u001b[49m\u001b[43m \u001b[49m\u001b[43malpha\u001b[49m\u001b[43m)\u001b[49m\n\u001b[1;32m     29\u001b[0m \u001b[38;5;28;01mfor\u001b[39;00m x, y \u001b[38;5;129;01min\u001b[39;00m \u001b[38;5;28mzip\u001b[39m(X_val, y_val):\n\u001b[1;32m     30\u001b[0m     output \u001b[38;5;241m=\u001b[39m predict(NN, x)\n",
      "File \u001b[0;32m~/GITHUB/ELL784/Assignment3/NeuralNetwork/dense.py:14\u001b[0m, in \u001b[0;36mDense.backward\u001b[0;34m(self, output_gradient, learning_rate)\u001b[0m\n\u001b[1;32m     12\u001b[0m \u001b[38;5;28;01mdef\u001b[39;00m \u001b[38;5;21mbackward\u001b[39m(\u001b[38;5;28mself\u001b[39m, output_gradient, learning_rate):\n\u001b[1;32m     13\u001b[0m     weights_gradient \u001b[38;5;241m=\u001b[39m np\u001b[38;5;241m.\u001b[39mdot(output_gradient, \u001b[38;5;28mself\u001b[39m\u001b[38;5;241m.\u001b[39minput\u001b[38;5;241m.\u001b[39mT)\n\u001b[0;32m---> 14\u001b[0m     input_gradient \u001b[38;5;241m=\u001b[39m \u001b[43mnp\u001b[49m\u001b[38;5;241;43m.\u001b[39;49m\u001b[43mdot\u001b[49m\u001b[43m(\u001b[49m\u001b[38;5;28;43mself\u001b[39;49m\u001b[38;5;241;43m.\u001b[39;49m\u001b[43mweights\u001b[49m\u001b[38;5;241;43m.\u001b[39;49m\u001b[43mT\u001b[49m\u001b[43m,\u001b[49m\u001b[43m \u001b[49m\u001b[43moutput_gradient\u001b[49m\u001b[43m)\u001b[49m\n\u001b[1;32m     15\u001b[0m     \u001b[38;5;28mself\u001b[39m\u001b[38;5;241m.\u001b[39mweights \u001b[38;5;241m-\u001b[39m\u001b[38;5;241m=\u001b[39m learning_rate \u001b[38;5;241m*\u001b[39m weights_gradient\n\u001b[1;32m     16\u001b[0m     \u001b[38;5;28mself\u001b[39m\u001b[38;5;241m.\u001b[39mbias \u001b[38;5;241m-\u001b[39m\u001b[38;5;241m=\u001b[39m learning_rate \u001b[38;5;241m*\u001b[39m output_gradient\n",
      "\u001b[0;31mKeyboardInterrupt\u001b[0m: "
     ]
    }
   ],
   "source": [
    "train_error,train_acc,val_error,val_acc = train(NN,mse,mse_derive,X_in,y_in,X_val[:10000],y_val[:10000],alpha=0.05,epoch=20)"
   ]
  },
  {
   "cell_type": "code",
   "execution_count": 28,
   "metadata": {},
   "outputs": [
    {
     "data": {
      "text/plain": [
       "720027"
      ]
     },
     "execution_count": 28,
     "metadata": {},
     "output_type": "execute_result"
    }
   ],
   "source": [
    "len(np.where(y_train==0)[0])"
   ]
  },
  {
   "cell_type": "code",
   "execution_count": null,
   "metadata": {},
   "outputs": [],
   "source": []
  }
 ],
 "metadata": {
  "kernelspec": {
   "display_name": "ELL784-0C_wN4yj",
   "language": "python",
   "name": "python3"
  },
  "language_info": {
   "codemirror_mode": {
    "name": "ipython",
    "version": 3
   },
   "file_extension": ".py",
   "mimetype": "text/x-python",
   "name": "python",
   "nbconvert_exporter": "python",
   "pygments_lexer": "ipython3",
   "version": "3.12.4"
  }
 },
 "nbformat": 4,
 "nbformat_minor": 2
}
